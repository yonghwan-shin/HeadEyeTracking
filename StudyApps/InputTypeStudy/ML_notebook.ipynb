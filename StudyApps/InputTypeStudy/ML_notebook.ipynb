{
 "cells": [
  {
   "cell_type": "markdown",
   "source": [
    "Import basic library"
   ],
   "metadata": {
    "collapsed": false,
    "pycharm": {
     "name": "#%% md\n"
    }
   }
  },
  {
   "cell_type": "code",
   "execution_count": 4,
   "outputs": [],
   "source": [
    "\n",
    "# %%\n",
    "import numpy as np\n",
    "from sklearn.pipeline import Pipeline\n",
    "from FileHandling import *\n",
    "from AnalysisFunctions import *\n",
    "from sktime.classification.distance_based import KNeighborsTimeSeriesClassifier\n",
    "from sktime.dists_kernels import FlatDist, ScipyDist\n",
    "from sklearn.metrics import confusion_matrix, f1_score\n",
    "from sklearn.experimental import enable_halving_search_cv\n",
    "from sklearn.model_selection import GridSearchCV, HalvingGridSearchCV,StratifiedKFold\n",
    "from time import time\n",
    "from sklearn import svm\n",
    "import json\n",
    "from sklearn.metrics import accuracy_score\n",
    "import ast\n",
    "from sklearn.metrics import RocCurveDisplay\n",
    "\n",
    "# from hyperparam_tuning import tune_with_grid_search\n",
    "\n",
    "result_dir = Path.cwd() / 'ML_results'\n",
    "if not result_dir.exists():\n",
    "    result_dir.mkdir()\n",
    "\n",
    "\n",
    "def tune_with_halving_grid_search(x_train, y_train, param_grid, suffix):\n",
    "    svc = svm.SVC(class_weight='balanced', random_state=42)\n",
    "\n",
    "    start = time()\n",
    "    halving_gs_results = HalvingGridSearchCV(\n",
    "        svc,\n",
    "        param_grid,\n",
    "        cv=5,\n",
    "        factor=3,\n",
    "        min_resources='exhaust'\n",
    "    ).fit(x_train, y_train)\n",
    "\n",
    "    duration = time() - start\n",
    "\n",
    "    results = pd.DataFrame(halving_gs_results.cv_results_)\n",
    "    results.loc[:, 'mean_test_score'] *= 100\n",
    "\n",
    "    # take the most relevant columns and sort (for readability). Remember to sort on the iter columns first, so we see\n",
    "    # the models with the most training data behind them first.\n",
    "    results = results.loc[:, ('iter', 'rank_test_score', 'mean_test_score', 'params')]\n",
    "    results.sort_values(by=['iter', 'rank_test_score'], ascending=[False, True], inplace=True)\n",
    "    p = 'halving_svc_results' + suffix + '.csv'\n",
    "    results.to_csv(result_dir / p)\n",
    "    return results, duration\n",
    "\n",
    "\n",
    "def tune_with_grid_search(x_train, y_train, param_grid):\n",
    "    svc = svm.SVC(kernel='rbf', class_weight='balanced',\n",
    "                  random_state=42)\n",
    "\n",
    "    start = time()\n",
    "    gs_results = GridSearchCV(svc, param_grid, cv=5).fit(x_train, y_train)\n",
    "    duration = time() - start\n",
    "\n",
    "    results = pd.DataFrame(gs_results.cv_results_)\n",
    "    results.loc[:, 'mean_test_score'] *= 100\n",
    "    results.to_csv(result_dir / 'svc_results.csv')\n",
    "\n",
    "    # take the most relevant columns and sort (for readability)\n",
    "    results = results.loc[:, ('rank_test_score', 'mean_test_score', 'params')]\n",
    "    results.sort_values(by='rank_test_score', ascending=True, inplace=True)\n",
    "\n",
    "    return results, duration\n"
   ],
   "metadata": {
    "collapsed": false,
    "pycharm": {
     "name": "#%%\n"
    }
   }
  },
  {
   "cell_type": "code",
   "execution_count": null,
   "outputs": [],
   "source": [],
   "metadata": {
    "collapsed": false,
    "pycharm": {
     "name": "#%%\n"
    }
   }
  }
 ],
 "metadata": {
  "kernelspec": {
   "display_name": "Python 3",
   "language": "python",
   "name": "python3"
  },
  "language_info": {
   "codemirror_mode": {
    "name": "ipython",
    "version": 2
   },
   "file_extension": ".py",
   "mimetype": "text/x-python",
   "name": "python",
   "nbconvert_exporter": "python",
   "pygments_lexer": "ipython2",
   "version": "2.7.6"
  }
 },
 "nbformat": 4,
 "nbformat_minor": 0
}