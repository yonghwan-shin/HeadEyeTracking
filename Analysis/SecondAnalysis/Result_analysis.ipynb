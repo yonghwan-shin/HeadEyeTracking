{
 "cells": [
  {
   "cell_type": "code",
   "execution_count": 1,
   "metadata": {
    "collapsed": true
   },
   "outputs": [],
   "source": [
    "from new import *\n",
    "from IPython.core.display import display\n",
    "%reload_ext autoreload\n",
    "%autoreload 2\n",
    "pd.set_option('display.max_columns', 30)\n",
    "ROOT = Path.cwd()\n",
    "DATA_ROOT = ROOT.parent.parent / 'Datasets' / '2ndData'\n"
   ]
  },
  {
   "cell_type": "code",
   "execution_count": 33,
   "outputs": [
    {
     "name": "stdout",
     "output_type": "stream",
     "text": [
      "analysing 201 [0, 'U', 'W', 1]\n",
      "wrong env\n",
      "analysing 201 [0, 'U', 'W', 2]\n",
      "wrong env\n",
      "analysing 201 [0, 'U', 'W', 3]\n",
      "wrong env\n",
      "analysing 201 [0, 'U', 'W', 4]\n",
      "wrong env\n",
      "analysing 201 [0, 'U', 'S', 1]\n",
      "wrong env\n",
      "analysing 201 [0, 'U', 'S', 2]\n",
      "wrong env\n",
      "analysing 201 [0, 'U', 'S', 3]\n",
      "wrong env\n",
      "analysing 201 [0, 'U', 'S', 4]\n",
      "wrong env\n",
      "analysing 201 [0, 'W', 'W', 1]\n",
      "analysing 201 [0, 'W', 'W', 2]\n",
      "analysing 201 [0, 'W', 'W', 3]\n",
      "analysing 201 [0, 'W', 'W', 4]\n",
      "analysing 201 [0, 'W', 'S', 1]\n",
      "analysing 201 [0, 'W', 'S', 2]\n",
      "analysing 201 [0, 'W', 'S', 3]\n",
      "analysing 201 [0, 'W', 'S', 4]\n",
      "analysing 201 [1, 'U', 'W', 1]\n",
      "wrong env\n",
      "analysing 201 [1, 'U', 'W', 2]\n",
      "wrong env\n",
      "analysing 201 [1, 'U', 'W', 3]\n",
      "wrong env\n",
      "analysing 201 [1, 'U', 'W', 4]\n",
      "wrong env\n",
      "analysing 201 [1, 'U', 'S', 1]\n",
      "wrong env\n",
      "analysing 201 [1, 'U', 'S', 2]\n",
      "wrong env\n",
      "analysing 201 [1, 'U', 'S', 3]\n",
      "wrong env\n",
      "analysing 201 [1, 'U', 'S', 4]\n",
      "wrong env\n",
      "analysing 201 [1, 'W', 'W', 1]\n",
      "analysing 201 [1, 'W', 'W', 2]\n",
      "analysing 201 [1, 'W', 'W', 3]\n",
      "analysing 201 [1, 'W', 'W', 4]\n",
      "analysing 201 [1, 'W', 'S', 1]\n",
      "analysing 201 [1, 'W', 'S', 2]\n",
      "analysing 201 [1, 'W', 'S', 3]\n",
      "analysing 201 [1, 'W', 'S', 4]\n",
      "analysing 201 [2, 'U', 'W', 1]\n",
      "wrong env\n",
      "analysing 201 [2, 'U', 'W', 2]\n",
      "wrong env\n",
      "analysing 201 [2, 'U', 'W', 3]\n",
      "wrong env\n",
      "analysing 201 [2, 'U', 'W', 4]\n",
      "wrong env\n",
      "analysing 201 [2, 'U', 'S', 1]\n",
      "wrong env\n",
      "analysing 201 [2, 'U', 'S', 2]\n",
      "wrong env\n",
      "analysing 201 [2, 'U', 'S', 3]\n",
      "wrong env\n",
      "analysing 201 [2, 'U', 'S', 4]\n",
      "wrong env\n",
      "analysing 201 [2, 'W', 'W', 1]\n",
      "analysing 201 [2, 'W', 'W', 2]\n",
      "analysing 201 [2, 'W', 'W', 3]\n",
      "analysing 201 [2, 'W', 'W', 4]\n",
      "analysing 201 [2, 'W', 'S', 1]\n",
      "analysing 201 [2, 'W', 'S', 2]\n",
      "analysing 201 [2, 'W', 'S', 3]\n",
      "analysing 201 [2, 'W', 'S', 4]\n",
      "analysing 201 [3, 'U', 'W', 1]\n",
      "wrong env\n",
      "analysing 201 [3, 'U', 'W', 2]\n",
      "wrong env\n",
      "analysing 201 [3, 'U', 'W', 3]\n",
      "wrong env\n",
      "analysing 201 [3, 'U', 'W', 4]\n",
      "wrong env\n",
      "analysing 201 [3, 'U', 'S', 1]\n",
      "wrong env\n",
      "analysing 201 [3, 'U', 'S', 2]\n",
      "wrong env\n",
      "analysing 201 [3, 'U', 'S', 3]\n",
      "wrong env\n",
      "analysing 201 [3, 'U', 'S', 4]\n",
      "wrong env\n",
      "analysing 201 [3, 'W', 'W', 1]\n",
      "analysing 201 [3, 'W', 'W', 2]\n",
      "analysing 201 [3, 'W', 'W', 3]\n",
      "analysing 201 [3, 'W', 'W', 4]\n",
      "analysing 201 [3, 'W', 'S', 1]\n",
      "analysing 201 [3, 'W', 'S', 2]\n",
      "analysing 201 [3, 'W', 'S', 3]\n",
      "analysing 201 [3, 'W', 'S', 4]\n",
      "analysing 201 [4, 'U', 'W', 1]\n",
      "wrong env\n",
      "analysing 201 [4, 'U', 'W', 2]\n",
      "wrong env\n",
      "analysing 201 [4, 'U', 'W', 3]\n",
      "wrong env\n",
      "analysing 201 [4, 'U', 'W', 4]\n",
      "wrong env\n",
      "analysing 201 [4, 'U', 'S', 1]\n",
      "wrong env\n",
      "analysing 201 [4, 'U', 'S', 2]\n",
      "wrong env\n",
      "analysing 201 [4, 'U', 'S', 3]\n",
      "wrong env\n",
      "analysing 201 [4, 'U', 'S', 4]\n",
      "wrong env\n",
      "analysing 201 [4, 'W', 'W', 1]\n",
      "analysing 201 [4, 'W', 'W', 2]\n",
      "analysing 201 [4, 'W', 'W', 3]\n",
      "analysing 201 [4, 'W', 'W', 4]\n",
      "analysing 201 [4, 'W', 'S', 1]\n",
      "analysing 201 [4, 'W', 'S', 2]\n",
      "analysing 201 [4, 'W', 'S', 3]\n",
      "analysing 201 [4, 'W', 'S', 4]\n",
      "analysing 201 [5, 'U', 'W', 1]\n",
      "wrong env\n",
      "analysing 201 [5, 'U', 'W', 2]\n",
      "wrong env\n",
      "analysing 201 [5, 'U', 'W', 3]\n",
      "wrong env\n",
      "analysing 201 [5, 'U', 'W', 4]\n",
      "wrong env\n",
      "analysing 201 [5, 'U', 'S', 1]\n",
      "wrong env\n",
      "analysing 201 [5, 'U', 'S', 2]\n",
      "wrong env\n",
      "analysing 201 [5, 'U', 'S', 3]\n",
      "wrong env\n",
      "analysing 201 [5, 'U', 'S', 4]\n",
      "wrong env\n",
      "analysing 201 [5, 'W', 'W', 1]\n",
      "analysing 201 [5, 'W', 'W', 2]\n",
      "analysing 201 [5, 'W', 'W', 3]\n",
      "analysing 201 [5, 'W', 'W', 4]\n",
      "analysing 201 [5, 'W', 'S', 1]\n",
      "analysing 201 [5, 'W', 'S', 2]\n",
      "analysing 201 [5, 'W', 'S', 3]\n",
      "analysing 201 [5, 'W', 'S', 4]\n",
      "analysing 201 [6, 'U', 'W', 1]\n",
      "wrong env\n",
      "analysing 201 [6, 'U', 'W', 2]\n",
      "wrong env\n",
      "analysing 201 [6, 'U', 'W', 3]\n",
      "wrong env\n",
      "analysing 201 [6, 'U', 'W', 4]\n",
      "wrong env\n",
      "analysing 201 [6, 'U', 'S', 1]\n",
      "wrong env\n",
      "analysing 201 [6, 'U', 'S', 2]\n",
      "wrong env\n",
      "analysing 201 [6, 'U', 'S', 3]\n",
      "wrong env\n",
      "analysing 201 [6, 'U', 'S', 4]\n",
      "wrong env\n",
      "analysing 201 [6, 'W', 'W', 1]\n",
      "analysing 201 [6, 'W', 'W', 2]\n",
      "analysing 201 [6, 'W', 'W', 3]\n",
      "analysing 201 [6, 'W', 'W', 4]\n",
      "analysing 201 [6, 'W', 'S', 1]\n",
      "analysing 201 [6, 'W', 'S', 2]\n",
      "analysing 201 [6, 'W', 'S', 3]\n",
      "analysing 201 [6, 'W', 'S', 4]\n",
      "analysing 201 [7, 'U', 'W', 1]\n",
      "wrong env\n",
      "analysing 201 [7, 'U', 'W', 2]\n",
      "wrong env\n",
      "analysing 201 [7, 'U', 'W', 3]\n",
      "wrong env\n",
      "analysing 201 [7, 'U', 'W', 4]\n",
      "wrong env\n",
      "analysing 201 [7, 'U', 'S', 1]\n",
      "wrong env\n",
      "analysing 201 [7, 'U', 'S', 2]\n",
      "wrong env\n",
      "analysing 201 [7, 'U', 'S', 3]\n",
      "wrong env\n",
      "analysing 201 [7, 'U', 'S', 4]\n",
      "wrong env\n",
      "analysing 201 [7, 'W', 'W', 1]\n",
      "analysing 201 [7, 'W', 'W', 2]\n",
      "analysing 201 [7, 'W', 'W', 3]\n",
      "analysing 201 [7, 'W', 'W', 4]\n",
      "analysing 201 [7, 'W', 'S', 1]\n",
      "analysing 201 [7, 'W', 'S', 2]\n",
      "analysing 201 [7, 'W', 'S', 3]\n",
      "analysing 201 [7, 'W', 'S', 4]\n",
      "analysing 202 [0, 'U', 'W', 1]\n",
      "wrong env\n",
      "analysing 202 [0, 'U', 'W', 2]\n",
      "wrong env\n",
      "analysing 202 [0, 'U', 'W', 3]\n",
      "wrong env\n",
      "analysing 202 [0, 'U', 'W', 4]\n",
      "wrong env\n",
      "analysing 202 [0, 'U', 'S', 1]\n",
      "wrong env\n",
      "analysing 202 [0, 'U', 'S', 2]\n",
      "wrong env\n",
      "analysing 202 [0, 'U', 'S', 3]\n",
      "wrong env\n",
      "analysing 202 [0, 'U', 'S', 4]\n",
      "wrong env\n",
      "analysing 202 [0, 'W', 'W', 1]\n",
      "analysing 202 [0, 'W', 'W', 2]\n",
      "analysing 202 [0, 'W', 'W', 3]\n",
      "analysing 202 [0, 'W', 'W', 4]\n",
      "analysing 202 [0, 'W', 'S', 1]\n",
      "analysing 202 [0, 'W', 'S', 2]\n",
      "analysing 202 [0, 'W', 'S', 3]\n",
      "analysing 202 [0, 'W', 'S', 4]\n",
      "analysing 202 [1, 'U', 'W', 1]\n",
      "wrong env\n",
      "analysing 202 [1, 'U', 'W', 2]\n",
      "wrong env\n",
      "analysing 202 [1, 'U', 'W', 3]\n",
      "wrong env\n",
      "analysing 202 [1, 'U', 'W', 4]\n",
      "wrong env\n",
      "analysing 202 [1, 'U', 'S', 1]\n",
      "wrong env\n",
      "analysing 202 [1, 'U', 'S', 2]\n",
      "wrong env\n",
      "analysing 202 [1, 'U', 'S', 3]\n",
      "wrong env\n",
      "analysing 202 [1, 'U', 'S', 4]\n",
      "wrong env\n",
      "analysing 202 [1, 'W', 'W', 1]\n",
      "analysing 202 [1, 'W', 'W', 2]\n",
      "analysing 202 [1, 'W', 'W', 3]\n",
      "analysing 202 [1, 'W', 'W', 4]\n",
      "analysing 202 [1, 'W', 'S', 1]\n",
      "analysing 202 [1, 'W', 'S', 2]\n",
      "analysing 202 [1, 'W', 'S', 3]\n",
      "analysing 202 [1, 'W', 'S', 4]\n",
      "analysing 202 [2, 'U', 'W', 1]\n",
      "wrong env\n",
      "analysing 202 [2, 'U', 'W', 2]\n",
      "wrong env\n",
      "analysing 202 [2, 'U', 'W', 3]\n",
      "wrong env\n",
      "analysing 202 [2, 'U', 'W', 4]\n",
      "wrong env\n",
      "analysing 202 [2, 'U', 'S', 1]\n",
      "wrong env\n",
      "analysing 202 [2, 'U', 'S', 2]\n",
      "wrong env\n",
      "analysing 202 [2, 'U', 'S', 3]\n",
      "wrong env\n",
      "analysing 202 [2, 'U', 'S', 4]\n",
      "wrong env\n",
      "analysing 202 [2, 'W', 'W', 1]\n",
      "analysing 202 [2, 'W', 'W', 2]\n",
      "analysing 202 [2, 'W', 'W', 3]\n",
      "analysing 202 [2, 'W', 'W', 4]\n",
      "analysing 202 [2, 'W', 'S', 1]\n",
      "analysing 202 [2, 'W', 'S', 2]\n",
      "analysing 202 [2, 'W', 'S', 3]\n",
      "analysing 202 [2, 'W', 'S', 4]\n",
      "analysing 202 [3, 'U', 'W', 1]\n",
      "wrong env\n",
      "analysing 202 [3, 'U', 'W', 2]\n",
      "wrong env\n",
      "analysing 202 [3, 'U', 'W', 3]\n",
      "wrong env\n",
      "analysing 202 [3, 'U', 'W', 4]\n",
      "wrong env\n",
      "analysing 202 [3, 'U', 'S', 1]\n",
      "wrong env\n",
      "analysing 202 [3, 'U', 'S', 2]\n",
      "wrong env\n",
      "analysing 202 [3, 'U', 'S', 3]\n",
      "wrong env\n",
      "analysing 202 [3, 'U', 'S', 4]\n",
      "wrong env\n",
      "analysing 202 [3, 'W', 'W', 1]\n",
      "analysing 202 [3, 'W', 'W', 2]\n",
      "analysing 202 [3, 'W', 'W', 3]\n",
      "analysing 202 [3, 'W', 'W', 4]\n",
      "analysing 202 [3, 'W', 'S', 1]\n",
      "analysing 202 [3, 'W', 'S', 2]\n",
      "analysing 202 [3, 'W', 'S', 3]\n",
      "analysing 202 [3, 'W', 'S', 4]\n",
      "analysing 202 [4, 'U', 'W', 1]\n",
      "wrong env\n",
      "analysing 202 [4, 'U', 'W', 2]\n",
      "wrong env\n",
      "analysing 202 [4, 'U', 'W', 3]\n",
      "wrong env\n",
      "analysing 202 [4, 'U', 'W', 4]\n",
      "wrong env\n",
      "analysing 202 [4, 'U', 'S', 1]\n",
      "wrong env\n",
      "analysing 202 [4, 'U', 'S', 2]\n",
      "wrong env\n",
      "analysing 202 [4, 'U', 'S', 3]\n",
      "wrong env\n",
      "analysing 202 [4, 'U', 'S', 4]\n",
      "wrong env\n",
      "analysing 202 [4, 'W', 'W', 1]\n",
      "analysing 202 [4, 'W', 'W', 2]\n",
      "analysing 202 [4, 'W', 'W', 3]\n",
      "analysing 202 [4, 'W', 'W', 4]\n",
      "analysing 202 [4, 'W', 'S', 1]\n",
      "analysing 202 [4, 'W', 'S', 2]\n",
      "analysing 202 [4, 'W', 'S', 3]\n",
      "analysing 202 [4, 'W', 'S', 4]\n",
      "analysing 202 [5, 'U', 'W', 1]\n",
      "wrong env\n",
      "analysing 202 [5, 'U', 'W', 2]\n",
      "wrong env\n",
      "analysing 202 [5, 'U', 'W', 3]\n",
      "wrong env\n",
      "analysing 202 [5, 'U', 'W', 4]\n",
      "wrong env\n",
      "analysing 202 [5, 'U', 'S', 1]\n",
      "wrong env\n",
      "analysing 202 [5, 'U', 'S', 2]\n",
      "wrong env\n",
      "analysing 202 [5, 'U', 'S', 3]\n",
      "wrong env\n",
      "analysing 202 [5, 'U', 'S', 4]\n",
      "wrong env\n",
      "analysing 202 [5, 'W', 'W', 1]\n",
      "analysing 202 [5, 'W', 'W', 2]\n",
      "analysing 202 [5, 'W', 'W', 3]\n",
      "analysing 202 [5, 'W', 'W', 4]\n",
      "analysing 202 [5, 'W', 'S', 1]\n",
      "analysing 202 [5, 'W', 'S', 2]\n",
      "analysing 202 [5, 'W', 'S', 3]\n",
      "analysing 202 [5, 'W', 'S', 4]\n",
      "analysing 202 [6, 'U', 'W', 1]\n",
      "wrong env\n",
      "analysing 202 [6, 'U', 'W', 2]\n",
      "wrong env\n",
      "analysing 202 [6, 'U', 'W', 3]\n",
      "wrong env\n",
      "analysing 202 [6, 'U', 'W', 4]\n",
      "wrong env\n",
      "analysing 202 [6, 'U', 'S', 1]\n",
      "wrong env\n",
      "analysing 202 [6, 'U', 'S', 2]\n",
      "wrong env\n",
      "analysing 202 [6, 'U', 'S', 3]\n",
      "wrong env\n",
      "analysing 202 [6, 'U', 'S', 4]\n",
      "wrong env\n",
      "analysing 202 [6, 'W', 'W', 1]\n",
      "analysing 202 [6, 'W', 'W', 2]\n",
      "analysing 202 [6, 'W', 'W', 3]\n",
      "analysing 202 [6, 'W', 'W', 4]\n",
      "analysing 202 [6, 'W', 'S', 1]\n",
      "analysing 202 [6, 'W', 'S', 2]\n",
      "analysing 202 [6, 'W', 'S', 3]\n",
      "analysing 202 [6, 'W', 'S', 4]\n",
      "analysing 202 [7, 'U', 'W', 1]\n",
      "wrong env\n",
      "analysing 202 [7, 'U', 'W', 2]\n",
      "wrong env\n",
      "analysing 202 [7, 'U', 'W', 3]\n",
      "wrong env\n",
      "analysing 202 [7, 'U', 'W', 4]\n",
      "wrong env\n",
      "analysing 202 [7, 'U', 'S', 1]\n",
      "wrong env\n",
      "analysing 202 [7, 'U', 'S', 2]\n",
      "wrong env\n",
      "analysing 202 [7, 'U', 'S', 3]\n",
      "wrong env\n",
      "analysing 202 [7, 'U', 'S', 4]\n",
      "wrong env\n",
      "analysing 202 [7, 'W', 'W', 1]\n",
      "analysing 202 [7, 'W', 'W', 2]\n",
      "analysing 202 [7, 'W', 'W', 3]\n",
      "analysing 202 [7, 'W', 'W', 4]\n",
      "analysing 202 [7, 'W', 'S', 1]\n",
      "analysing 202 [7, 'W', 'S', 2]\n",
      "analysing 202 [7, 'W', 'S', 3]\n",
      "analysing 202 [7, 'W', 'S', 4]\n",
      "analysing 203 [0, 'U', 'W', 1]\n",
      "wrong env\n",
      "analysing 203 [0, 'U', 'W', 2]\n",
      "wrong env\n",
      "analysing 203 [0, 'U', 'W', 3]\n",
      "wrong env\n",
      "analysing 203 [0, 'U', 'W', 4]\n",
      "wrong env\n",
      "analysing 203 [0, 'U', 'S', 1]\n",
      "wrong env\n",
      "analysing 203 [0, 'U', 'S', 2]\n",
      "wrong env\n",
      "analysing 203 [0, 'U', 'S', 3]\n",
      "wrong env\n",
      "analysing 203 [0, 'U', 'S', 4]\n",
      "wrong env\n",
      "analysing 203 [0, 'W', 'W', 1]\n",
      "analysing 203 [0, 'W', 'W', 2]\n",
      "analysing 203 [0, 'W', 'W', 3]\n",
      "analysing 203 [0, 'W', 'W', 4]\n",
      "analysing 203 [0, 'W', 'S', 1]\n",
      "analysing 203 [0, 'W', 'S', 2]\n",
      "analysing 203 [0, 'W', 'S', 3]\n",
      "analysing 203 [0, 'W', 'S', 4]\n",
      "analysing 203 [1, 'U', 'W', 1]\n",
      "wrong env\n",
      "analysing 203 [1, 'U', 'W', 2]\n",
      "wrong env\n",
      "analysing 203 [1, 'U', 'W', 3]\n",
      "wrong env\n",
      "analysing 203 [1, 'U', 'W', 4]\n",
      "wrong env\n",
      "analysing 203 [1, 'U', 'S', 1]\n",
      "wrong env\n",
      "analysing 203 [1, 'U', 'S', 2]\n",
      "wrong env\n",
      "analysing 203 [1, 'U', 'S', 3]\n",
      "wrong env\n",
      "analysing 203 [1, 'U', 'S', 4]\n",
      "wrong env\n",
      "analysing 203 [1, 'W', 'W', 1]\n",
      "analysing 203 [1, 'W', 'W', 2]\n",
      "analysing 203 [1, 'W', 'W', 3]\n",
      "analysing 203 [1, 'W', 'W', 4]\n",
      "analysing 203 [1, 'W', 'S', 1]\n",
      "analysing 203 [1, 'W', 'S', 2]\n",
      "analysing 203 [1, 'W', 'S', 3]\n",
      "analysing 203 [1, 'W', 'S', 4]\n",
      "analysing 203 [2, 'U', 'W', 1]\n",
      "wrong env\n",
      "analysing 203 [2, 'U', 'W', 2]\n",
      "wrong env\n",
      "analysing 203 [2, 'U', 'W', 3]\n",
      "wrong env\n",
      "analysing 203 [2, 'U', 'W', 4]\n",
      "wrong env\n",
      "analysing 203 [2, 'U', 'S', 1]\n",
      "wrong env\n",
      "analysing 203 [2, 'U', 'S', 2]\n",
      "wrong env\n",
      "analysing 203 [2, 'U', 'S', 3]\n",
      "wrong env\n",
      "analysing 203 [2, 'U', 'S', 4]\n",
      "wrong env\n",
      "analysing 203 [2, 'W', 'W', 1]\n",
      "analysing 203 [2, 'W', 'W', 2]\n",
      "analysing 203 [2, 'W', 'W', 3]\n",
      "analysing 203 [2, 'W', 'W', 4]\n",
      "analysing 203 [2, 'W', 'S', 1]\n",
      "analysing 203 [2, 'W', 'S', 2]\n",
      "analysing 203 [2, 'W', 'S', 3]\n",
      "analysing 203 [2, 'W', 'S', 4]\n",
      "analysing 203 [3, 'U', 'W', 1]\n",
      "wrong env\n",
      "analysing 203 [3, 'U', 'W', 2]\n",
      "wrong env\n",
      "analysing 203 [3, 'U', 'W', 3]\n",
      "wrong env\n",
      "analysing 203 [3, 'U', 'W', 4]\n",
      "wrong env\n",
      "analysing 203 [3, 'U', 'S', 1]\n",
      "wrong env\n",
      "analysing 203 [3, 'U', 'S', 2]\n",
      "wrong env\n",
      "analysing 203 [3, 'U', 'S', 3]\n",
      "wrong env\n",
      "analysing 203 [3, 'U', 'S', 4]\n",
      "wrong env\n",
      "analysing 203 [3, 'W', 'W', 1]\n",
      "analysing 203 [3, 'W', 'W', 2]\n",
      "analysing 203 [3, 'W', 'W', 3]\n",
      "analysing 203 [3, 'W', 'W', 4]\n",
      "analysing 203 [3, 'W', 'S', 1]\n",
      "analysing 203 [3, 'W', 'S', 2]\n",
      "analysing 203 [3, 'W', 'S', 3]\n",
      "analysing 203 [3, 'W', 'S', 4]\n",
      "analysing 203 [4, 'U', 'W', 1]\n",
      "wrong env\n",
      "analysing 203 [4, 'U', 'W', 2]\n",
      "wrong env\n",
      "analysing 203 [4, 'U', 'W', 3]\n",
      "wrong env\n",
      "analysing 203 [4, 'U', 'W', 4]\n",
      "wrong env\n",
      "analysing 203 [4, 'U', 'S', 1]\n",
      "wrong env\n",
      "analysing 203 [4, 'U', 'S', 2]\n",
      "wrong env\n",
      "analysing 203 [4, 'U', 'S', 3]\n",
      "wrong env\n",
      "analysing 203 [4, 'U', 'S', 4]\n",
      "wrong env\n",
      "analysing 203 [4, 'W', 'W', 1]\n",
      "analysing 203 [4, 'W', 'W', 2]\n",
      "analysing 203 [4, 'W', 'W', 3]\n",
      "analysing 203 [4, 'W', 'W', 4]\n",
      "analysing 203 [4, 'W', 'S', 1]\n",
      "analysing 203 [4, 'W', 'S', 2]\n",
      "analysing 203 [4, 'W', 'S', 3]\n",
      "analysing 203 [4, 'W', 'S', 4]\n",
      "analysing 203 [5, 'U', 'W', 1]\n",
      "wrong env\n",
      "analysing 203 [5, 'U', 'W', 2]\n",
      "wrong env\n",
      "analysing 203 [5, 'U', 'W', 3]\n",
      "wrong env\n",
      "analysing 203 [5, 'U', 'W', 4]\n",
      "wrong env\n",
      "analysing 203 [5, 'U', 'S', 1]\n",
      "wrong env\n",
      "analysing 203 [5, 'U', 'S', 2]\n",
      "wrong env\n",
      "analysing 203 [5, 'U', 'S', 3]\n",
      "wrong env\n",
      "analysing 203 [5, 'U', 'S', 4]\n",
      "wrong env\n",
      "analysing 203 [5, 'W', 'W', 1]\n",
      "analysing 203 [5, 'W', 'W', 2]\n",
      "analysing 203 [5, 'W', 'W', 3]\n",
      "analysing 203 [5, 'W', 'W', 4]\n",
      "analysing 203 [5, 'W', 'S', 1]\n",
      "analysing 203 [5, 'W', 'S', 2]\n",
      "analysing 203 [5, 'W', 'S', 3]\n",
      "analysing 203 [5, 'W', 'S', 4]\n",
      "analysing 203 [6, 'U', 'W', 1]\n",
      "wrong env\n",
      "analysing 203 [6, 'U', 'W', 2]\n",
      "wrong env\n",
      "analysing 203 [6, 'U', 'W', 3]\n",
      "wrong env\n",
      "analysing 203 [6, 'U', 'W', 4]\n",
      "wrong env\n",
      "analysing 203 [6, 'U', 'S', 1]\n",
      "wrong env\n",
      "analysing 203 [6, 'U', 'S', 2]\n",
      "wrong env\n",
      "analysing 203 [6, 'U', 'S', 3]\n",
      "wrong env\n",
      "analysing 203 [6, 'U', 'S', 4]\n",
      "wrong env\n",
      "analysing 203 [6, 'W', 'W', 1]\n",
      "analysing 203 [6, 'W', 'W', 2]\n",
      "analysing 203 [6, 'W', 'W', 3]\n",
      "analysing 203 [6, 'W', 'W', 4]\n",
      "analysing 203 [6, 'W', 'S', 1]\n",
      "analysing 203 [6, 'W', 'S', 2]\n",
      "analysing 203 [6, 'W', 'S', 3]\n",
      "analysing 203 [6, 'W', 'S', 4]\n",
      "analysing 203 [7, 'U', 'W', 1]\n",
      "wrong env\n",
      "analysing 203 [7, 'U', 'W', 2]\n",
      "wrong env\n",
      "analysing 203 [7, 'U', 'W', 3]\n",
      "wrong env\n",
      "analysing 203 [7, 'U', 'W', 4]\n",
      "wrong env\n",
      "analysing 203 [7, 'U', 'S', 1]\n",
      "wrong env\n",
      "analysing 203 [7, 'U', 'S', 2]\n",
      "wrong env\n",
      "analysing 203 [7, 'U', 'S', 3]\n",
      "wrong env\n",
      "analysing 203 [7, 'U', 'S', 4]\n",
      "wrong env\n",
      "analysing 203 [7, 'W', 'W', 1]\n",
      "analysing 203 [7, 'W', 'W', 2]\n",
      "analysing 203 [7, 'W', 'W', 3]\n",
      "analysing 203 [7, 'W', 'W', 4]\n",
      "analysing 203 [7, 'W', 'S', 1]\n",
      "analysing 203 [7, 'W', 'S', 2]\n",
      "analysing 203 [7, 'W', 'S', 3]\n",
      "analysing 203 [7, 'W', 'S', 4]\n",
      "analysing 204 [0, 'U', 'W', 1]\n",
      "wrong env\n",
      "analysing 204 [0, 'U', 'W', 2]\n",
      "wrong env\n",
      "analysing 204 [0, 'U', 'W', 3]\n",
      "wrong env\n",
      "analysing 204 [0, 'U', 'W', 4]\n",
      "wrong env\n",
      "analysing 204 [0, 'U', 'S', 1]\n",
      "wrong env\n",
      "analysing 204 [0, 'U', 'S', 2]\n",
      "wrong env\n",
      "analysing 204 [0, 'U', 'S', 3]\n",
      "wrong env\n",
      "analysing 204 [0, 'U', 'S', 4]\n",
      "wrong env\n",
      "analysing 204 [0, 'W', 'W', 1]\n",
      "analysing 204 [0, 'W', 'W', 2]\n",
      "analysing 204 [0, 'W', 'W', 3]\n",
      "analysing 204 [0, 'W', 'W', 4]\n",
      "analysing 204 [0, 'W', 'S', 1]\n",
      "analysing 204 [0, 'W', 'S', 2]\n",
      "analysing 204 [0, 'W', 'S', 3]\n",
      "analysing 204 [0, 'W', 'S', 4]\n",
      "analysing 204 [1, 'U', 'W', 1]\n",
      "wrong env\n",
      "analysing 204 [1, 'U', 'W', 2]\n",
      "wrong env\n",
      "analysing 204 [1, 'U', 'W', 3]\n",
      "wrong env\n",
      "analysing 204 [1, 'U', 'W', 4]\n",
      "wrong env\n",
      "analysing 204 [1, 'U', 'S', 1]\n",
      "wrong env\n",
      "analysing 204 [1, 'U', 'S', 2]\n",
      "wrong env\n",
      "analysing 204 [1, 'U', 'S', 3]\n",
      "wrong env\n",
      "analysing 204 [1, 'U', 'S', 4]\n",
      "wrong env\n",
      "analysing 204 [1, 'W', 'W', 1]\n",
      "analysing 204 [1, 'W', 'W', 2]\n",
      "analysing 204 [1, 'W', 'W', 3]\n",
      "analysing 204 [1, 'W', 'W', 4]\n",
      "analysing 204 [1, 'W', 'S', 1]\n",
      "analysing 204 [1, 'W', 'S', 2]\n",
      "analysing 204 [1, 'W', 'S', 3]\n",
      "analysing 204 [1, 'W', 'S', 4]\n",
      "analysing 204 [2, 'U', 'W', 1]\n",
      "wrong env\n",
      "analysing 204 [2, 'U', 'W', 2]\n",
      "wrong env\n",
      "analysing 204 [2, 'U', 'W', 3]\n",
      "wrong env\n",
      "analysing 204 [2, 'U', 'W', 4]\n",
      "wrong env\n",
      "analysing 204 [2, 'U', 'S', 1]\n",
      "wrong env\n",
      "analysing 204 [2, 'U', 'S', 2]\n",
      "wrong env\n",
      "analysing 204 [2, 'U', 'S', 3]\n",
      "wrong env\n",
      "analysing 204 [2, 'U', 'S', 4]\n",
      "wrong env\n",
      "analysing 204 [2, 'W', 'W', 1]\n",
      "analysing 204 [2, 'W', 'W', 2]\n",
      "analysing 204 [2, 'W', 'W', 3]\n",
      "analysing 204 [2, 'W', 'W', 4]\n",
      "analysing 204 [2, 'W', 'S', 1]\n",
      "analysing 204 [2, 'W', 'S', 2]\n",
      "analysing 204 [2, 'W', 'S', 3]\n",
      "analysing 204 [2, 'W', 'S', 4]\n",
      "analysing 204 [3, 'U', 'W', 1]\n",
      "wrong env\n",
      "analysing 204 [3, 'U', 'W', 2]\n",
      "wrong env\n",
      "analysing 204 [3, 'U', 'W', 3]\n",
      "wrong env\n",
      "analysing 204 [3, 'U', 'W', 4]\n",
      "wrong env\n",
      "analysing 204 [3, 'U', 'S', 1]\n",
      "wrong env\n",
      "analysing 204 [3, 'U', 'S', 2]\n",
      "wrong env\n",
      "analysing 204 [3, 'U', 'S', 3]\n",
      "wrong env\n",
      "analysing 204 [3, 'U', 'S', 4]\n",
      "wrong env\n",
      "analysing 204 [3, 'W', 'W', 1]\n",
      "analysing 204 [3, 'W', 'W', 2]\n",
      "analysing 204 [3, 'W', 'W', 3]\n",
      "analysing 204 [3, 'W', 'W', 4]\n",
      "analysing 204 [3, 'W', 'S', 1]\n",
      "analysing 204 [3, 'W', 'S', 2]\n",
      "analysing 204 [3, 'W', 'S', 3]\n",
      "analysing 204 [3, 'W', 'S', 4]\n",
      "analysing 204 [4, 'U', 'W', 1]\n",
      "wrong env\n",
      "analysing 204 [4, 'U', 'W', 2]\n",
      "wrong env\n",
      "analysing 204 [4, 'U', 'W', 3]\n",
      "wrong env\n",
      "analysing 204 [4, 'U', 'W', 4]\n",
      "wrong env\n",
      "analysing 204 [4, 'U', 'S', 1]\n",
      "wrong env\n",
      "analysing 204 [4, 'U', 'S', 2]\n",
      "wrong env\n",
      "analysing 204 [4, 'U', 'S', 3]\n",
      "wrong env\n",
      "analysing 204 [4, 'U', 'S', 4]\n",
      "wrong env\n",
      "analysing 204 [4, 'W', 'W', 1]\n",
      "analysing 204 [4, 'W', 'W', 2]\n",
      "analysing 204 [4, 'W', 'W', 3]\n",
      "analysing 204 [4, 'W', 'W', 4]\n",
      "analysing 204 [4, 'W', 'S', 1]\n",
      "analysing 204 [4, 'W', 'S', 2]\n",
      "analysing 204 [4, 'W', 'S', 3]\n",
      "analysing 204 [4, 'W', 'S', 4]\n",
      "analysing 204 [5, 'U', 'W', 1]\n",
      "wrong env\n",
      "analysing 204 [5, 'U', 'W', 2]\n",
      "wrong env\n",
      "analysing 204 [5, 'U', 'W', 3]\n",
      "wrong env\n",
      "analysing 204 [5, 'U', 'W', 4]\n",
      "wrong env\n",
      "analysing 204 [5, 'U', 'S', 1]\n",
      "wrong env\n",
      "analysing 204 [5, 'U', 'S', 2]\n",
      "wrong env\n",
      "analysing 204 [5, 'U', 'S', 3]\n",
      "wrong env\n",
      "analysing 204 [5, 'U', 'S', 4]\n",
      "wrong env\n",
      "analysing 204 [5, 'W', 'W', 1]\n",
      "analysing 204 [5, 'W', 'W', 2]\n",
      "analysing 204 [5, 'W', 'W', 3]\n",
      "analysing 204 [5, 'W', 'W', 4]\n",
      "analysing 204 [5, 'W', 'S', 1]\n",
      "analysing 204 [5, 'W', 'S', 2]\n",
      "analysing 204 [5, 'W', 'S', 3]\n",
      "analysing 204 [5, 'W', 'S', 4]\n",
      "analysing 204 [6, 'U', 'W', 1]\n",
      "wrong env\n",
      "analysing 204 [6, 'U', 'W', 2]\n",
      "wrong env\n",
      "analysing 204 [6, 'U', 'W', 3]\n",
      "wrong env\n",
      "analysing 204 [6, 'U', 'W', 4]\n",
      "wrong env\n",
      "analysing 204 [6, 'U', 'S', 1]\n",
      "wrong env\n",
      "analysing 204 [6, 'U', 'S', 2]\n",
      "wrong env\n",
      "analysing 204 [6, 'U', 'S', 3]\n",
      "wrong env\n",
      "analysing 204 [6, 'U', 'S', 4]\n",
      "wrong env\n",
      "analysing 204 [6, 'W', 'W', 1]\n",
      "analysing 204 [6, 'W', 'W', 2]\n",
      "analysing 204 [6, 'W', 'W', 3]\n",
      "analysing 204 [6, 'W', 'W', 4]\n",
      "analysing 204 [6, 'W', 'S', 1]\n",
      "analysing 204 [6, 'W', 'S', 2]\n",
      "analysing 204 [6, 'W', 'S', 3]\n",
      "analysing 204 [6, 'W', 'S', 4]\n",
      "analysing 204 [7, 'U', 'W', 1]\n",
      "wrong env\n",
      "analysing 204 [7, 'U', 'W', 2]\n",
      "wrong env\n",
      "analysing 204 [7, 'U', 'W', 3]\n",
      "wrong env\n",
      "analysing 204 [7, 'U', 'W', 4]\n",
      "wrong env\n",
      "analysing 204 [7, 'U', 'S', 1]\n",
      "wrong env\n",
      "analysing 204 [7, 'U', 'S', 2]\n",
      "wrong env\n",
      "analysing 204 [7, 'U', 'S', 3]\n",
      "wrong env\n",
      "analysing 204 [7, 'U', 'S', 4]\n",
      "wrong env\n",
      "analysing 204 [7, 'W', 'W', 1]\n",
      "analysing 204 [7, 'W', 'W', 2]\n",
      "analysing 204 [7, 'W', 'W', 3]\n",
      "analysing 204 [7, 'W', 'W', 4]\n",
      "analysing 204 [7, 'W', 'S', 1]\n",
      "analysing 204 [7, 'W', 'S', 2]\n",
      "analysing 204 [7, 'W', 'S', 3]\n",
      "analysing 204 [7, 'W', 'S', 4]\n",
      "analysing 205 [0, 'U', 'W', 1]\n",
      "wrong env\n",
      "analysing 205 [0, 'U', 'W', 2]\n",
      "wrong env\n",
      "analysing 205 [0, 'U', 'W', 3]\n",
      "wrong env\n",
      "analysing 205 [0, 'U', 'W', 4]\n",
      "wrong env\n",
      "analysing 205 [0, 'U', 'S', 1]\n",
      "wrong env\n",
      "analysing 205 [0, 'U', 'S', 2]\n",
      "wrong env\n",
      "analysing 205 [0, 'U', 'S', 3]\n",
      "wrong env\n",
      "analysing 205 [0, 'U', 'S', 4]\n",
      "wrong env\n",
      "analysing 205 [0, 'W', 'W', 1]\n",
      "analysing 205 [0, 'W', 'W', 2]\n",
      "analysing 205 [0, 'W', 'W', 3]\n",
      "analysing 205 [0, 'W', 'W', 4]\n",
      "analysing 205 [0, 'W', 'S', 1]\n",
      "analysing 205 [0, 'W', 'S', 2]\n",
      "analysing 205 [0, 'W', 'S', 3]\n",
      "analysing 205 [0, 'W', 'S', 4]\n",
      "analysing 205 [1, 'U', 'W', 1]\n",
      "wrong env\n",
      "analysing 205 [1, 'U', 'W', 2]\n",
      "wrong env\n",
      "analysing 205 [1, 'U', 'W', 3]\n",
      "wrong env\n",
      "analysing 205 [1, 'U', 'W', 4]\n",
      "wrong env\n",
      "analysing 205 [1, 'U', 'S', 1]\n",
      "wrong env\n",
      "analysing 205 [1, 'U', 'S', 2]\n",
      "wrong env\n",
      "analysing 205 [1, 'U', 'S', 3]\n",
      "wrong env\n",
      "analysing 205 [1, 'U', 'S', 4]\n",
      "wrong env\n",
      "analysing 205 [1, 'W', 'W', 1]\n",
      "analysing 205 [1, 'W', 'W', 2]\n",
      "analysing 205 [1, 'W', 'W', 3]\n",
      "analysing 205 [1, 'W', 'W', 4]\n",
      "analysing 205 [1, 'W', 'S', 1]\n",
      "analysing 205 [1, 'W', 'S', 2]\n",
      "analysing 205 [1, 'W', 'S', 3]\n",
      "analysing 205 [1, 'W', 'S', 4]\n",
      "analysing 205 [2, 'U', 'W', 1]\n",
      "wrong env\n",
      "analysing 205 [2, 'U', 'W', 2]\n",
      "wrong env\n",
      "analysing 205 [2, 'U', 'W', 3]\n",
      "wrong env\n",
      "analysing 205 [2, 'U', 'W', 4]\n",
      "wrong env\n",
      "analysing 205 [2, 'U', 'S', 1]\n",
      "wrong env\n",
      "analysing 205 [2, 'U', 'S', 2]\n",
      "wrong env\n",
      "analysing 205 [2, 'U', 'S', 3]\n",
      "wrong env\n",
      "analysing 205 [2, 'U', 'S', 4]\n",
      "wrong env\n",
      "analysing 205 [2, 'W', 'W', 1]\n",
      "analysing 205 [2, 'W', 'W', 2]\n",
      "analysing 205 [2, 'W', 'W', 3]\n",
      "analysing 205 [2, 'W', 'W', 4]\n",
      "analysing 205 [2, 'W', 'S', 1]\n",
      "analysing 205 [2, 'W', 'S', 2]\n",
      "analysing 205 [2, 'W', 'S', 3]\n",
      "analysing 205 [2, 'W', 'S', 4]\n",
      "analysing 205 [3, 'U', 'W', 1]\n",
      "wrong env\n",
      "analysing 205 [3, 'U', 'W', 2]\n",
      "wrong env\n",
      "analysing 205 [3, 'U', 'W', 3]\n",
      "wrong env\n",
      "analysing 205 [3, 'U', 'W', 4]\n",
      "wrong env\n",
      "analysing 205 [3, 'U', 'S', 1]\n",
      "wrong env\n",
      "analysing 205 [3, 'U', 'S', 2]\n",
      "wrong env\n",
      "analysing 205 [3, 'U', 'S', 3]\n",
      "wrong env\n",
      "analysing 205 [3, 'U', 'S', 4]\n",
      "wrong env\n",
      "analysing 205 [3, 'W', 'W', 1]\n",
      "analysing 205 [3, 'W', 'W', 2]\n",
      "analysing 205 [3, 'W', 'W', 3]\n",
      "analysing 205 [3, 'W', 'W', 4]\n",
      "analysing 205 [3, 'W', 'S', 1]\n",
      "analysing 205 [3, 'W', 'S', 2]\n",
      "analysing 205 [3, 'W', 'S', 3]\n",
      "analysing 205 [3, 'W', 'S', 4]\n",
      "analysing 205 [4, 'U', 'W', 1]\n",
      "wrong env\n",
      "analysing 205 [4, 'U', 'W', 2]\n",
      "wrong env\n",
      "analysing 205 [4, 'U', 'W', 3]\n",
      "wrong env\n",
      "analysing 205 [4, 'U', 'W', 4]\n",
      "wrong env\n",
      "analysing 205 [4, 'U', 'S', 1]\n",
      "wrong env\n",
      "analysing 205 [4, 'U', 'S', 2]\n",
      "wrong env\n",
      "analysing 205 [4, 'U', 'S', 3]\n",
      "wrong env\n",
      "analysing 205 [4, 'U', 'S', 4]\n",
      "wrong env\n",
      "analysing 205 [4, 'W', 'W', 1]\n",
      "analysing 205 [4, 'W', 'W', 2]\n",
      "analysing 205 [4, 'W', 'W', 3]\n",
      "analysing 205 [4, 'W', 'W', 4]\n",
      "analysing 205 [4, 'W', 'S', 1]\n",
      "analysing 205 [4, 'W', 'S', 2]\n",
      "analysing 205 [4, 'W', 'S', 3]\n",
      "analysing 205 [4, 'W', 'S', 4]\n",
      "analysing 205 [5, 'U', 'W', 1]\n",
      "wrong env\n",
      "analysing 205 [5, 'U', 'W', 2]\n",
      "wrong env\n",
      "analysing 205 [5, 'U', 'W', 3]\n",
      "wrong env\n",
      "analysing 205 [5, 'U', 'W', 4]\n",
      "wrong env\n",
      "analysing 205 [5, 'U', 'S', 1]\n",
      "wrong env\n",
      "analysing 205 [5, 'U', 'S', 2]\n",
      "wrong env\n",
      "analysing 205 [5, 'U', 'S', 3]\n",
      "wrong env\n",
      "analysing 205 [5, 'U', 'S', 4]\n",
      "wrong env\n",
      "analysing 205 [5, 'W', 'W', 1]\n",
      "analysing 205 [5, 'W', 'W', 2]\n",
      "analysing 205 [5, 'W', 'W', 3]\n",
      "analysing 205 [5, 'W', 'W', 4]\n",
      "analysing 205 [5, 'W', 'S', 1]\n",
      "analysing 205 [5, 'W', 'S', 2]\n",
      "analysing 205 [5, 'W', 'S', 3]\n",
      "analysing 205 [5, 'W', 'S', 4]\n",
      "analysing 205 [6, 'U', 'W', 1]\n",
      "wrong env\n",
      "analysing 205 [6, 'U', 'W', 2]\n",
      "wrong env\n",
      "analysing 205 [6, 'U', 'W', 3]\n",
      "wrong env\n",
      "analysing 205 [6, 'U', 'W', 4]\n",
      "wrong env\n",
      "analysing 205 [6, 'U', 'S', 1]\n",
      "wrong env\n",
      "analysing 205 [6, 'U', 'S', 2]\n",
      "wrong env\n",
      "analysing 205 [6, 'U', 'S', 3]\n",
      "wrong env\n",
      "analysing 205 [6, 'U', 'S', 4]\n",
      "wrong env\n",
      "analysing 205 [6, 'W', 'W', 1]\n",
      "analysing 205 [6, 'W', 'W', 2]\n",
      "analysing 205 [6, 'W', 'W', 3]\n",
      "analysing 205 [6, 'W', 'W', 4]\n",
      "analysing 205 [6, 'W', 'S', 1]\n",
      "analysing 205 [6, 'W', 'S', 2]\n",
      "analysing 205 [6, 'W', 'S', 3]\n",
      "analysing 205 [6, 'W', 'S', 4]\n",
      "analysing 205 [7, 'U', 'W', 1]\n",
      "wrong env\n",
      "analysing 205 [7, 'U', 'W', 2]\n",
      "wrong env\n",
      "analysing 205 [7, 'U', 'W', 3]\n",
      "wrong env\n",
      "analysing 205 [7, 'U', 'W', 4]\n",
      "wrong env\n",
      "analysing 205 [7, 'U', 'S', 1]\n",
      "wrong env\n",
      "analysing 205 [7, 'U', 'S', 2]\n",
      "wrong env\n",
      "analysing 205 [7, 'U', 'S', 3]\n",
      "wrong env\n",
      "analysing 205 [7, 'U', 'S', 4]\n",
      "wrong env\n",
      "analysing 205 [7, 'W', 'W', 1]\n",
      "analysing 205 [7, 'W', 'W', 2]\n",
      "analysing 205 [7, 'W', 'W', 3]\n",
      "analysing 205 [7, 'W', 'W', 4]\n",
      "analysing 205 [7, 'W', 'S', 1]\n",
      "analysing 205 [7, 'W', 'S', 2]\n",
      "analysing 205 [7, 'W', 'S', 3]\n",
      "analysing 205 [7, 'W', 'S', 4]\n",
      "analysing 206 [0, 'U', 'W', 1]\n",
      "wrong env\n",
      "analysing 206 [0, 'U', 'W', 2]\n",
      "wrong env\n",
      "analysing 206 [0, 'U', 'W', 3]\n",
      "wrong env\n",
      "analysing 206 [0, 'U', 'W', 4]\n",
      "wrong env\n",
      "analysing 206 [0, 'U', 'S', 1]\n",
      "wrong env\n",
      "analysing 206 [0, 'U', 'S', 2]\n",
      "wrong env\n",
      "analysing 206 [0, 'U', 'S', 3]\n",
      "wrong env\n",
      "analysing 206 [0, 'U', 'S', 4]\n",
      "wrong env\n",
      "analysing 206 [0, 'W', 'W', 1]\n",
      "analysing 206 [0, 'W', 'W', 2]\n",
      "analysing 206 [0, 'W', 'W', 3]\n",
      "analysing 206 [0, 'W', 'W', 4]\n",
      "analysing 206 [0, 'W', 'S', 1]\n",
      "analysing 206 [0, 'W', 'S', 2]\n",
      "analysing 206 [0, 'W', 'S', 3]\n",
      "analysing 206 [0, 'W', 'S', 4]\n",
      "analysing 206 [1, 'U', 'W', 1]\n",
      "wrong env\n",
      "analysing 206 [1, 'U', 'W', 2]\n",
      "wrong env\n",
      "analysing 206 [1, 'U', 'W', 3]\n",
      "wrong env\n",
      "analysing 206 [1, 'U', 'W', 4]\n",
      "wrong env\n",
      "analysing 206 [1, 'U', 'S', 1]\n",
      "wrong env\n",
      "analysing 206 [1, 'U', 'S', 2]\n",
      "wrong env\n",
      "analysing 206 [1, 'U', 'S', 3]\n",
      "wrong env\n",
      "analysing 206 [1, 'U', 'S', 4]\n",
      "wrong env\n",
      "analysing 206 [1, 'W', 'W', 1]\n",
      "analysing 206 [1, 'W', 'W', 2]\n",
      "analysing 206 [1, 'W', 'W', 3]\n",
      "analysing 206 [1, 'W', 'W', 4]\n",
      "analysing 206 [1, 'W', 'S', 1]\n",
      "analysing 206 [1, 'W', 'S', 2]\n",
      "analysing 206 [1, 'W', 'S', 3]\n",
      "analysing 206 [1, 'W', 'S', 4]\n",
      "analysing 206 [2, 'U', 'W', 1]\n",
      "wrong env\n",
      "analysing 206 [2, 'U', 'W', 2]\n",
      "wrong env\n",
      "analysing 206 [2, 'U', 'W', 3]\n",
      "wrong env\n",
      "analysing 206 [2, 'U', 'W', 4]\n",
      "wrong env\n",
      "analysing 206 [2, 'U', 'S', 1]\n",
      "wrong env\n",
      "analysing 206 [2, 'U', 'S', 2]\n",
      "wrong env\n",
      "analysing 206 [2, 'U', 'S', 3]\n",
      "wrong env\n",
      "analysing 206 [2, 'U', 'S', 4]\n",
      "wrong env\n",
      "analysing 206 [2, 'W', 'W', 1]\n",
      "analysing 206 [2, 'W', 'W', 2]\n",
      "analysing 206 [2, 'W', 'W', 3]\n",
      "analysing 206 [2, 'W', 'W', 4]\n",
      "analysing 206 [2, 'W', 'S', 1]\n",
      "analysing 206 [2, 'W', 'S', 2]\n",
      "analysing 206 [2, 'W', 'S', 3]\n",
      "analysing 206 [2, 'W', 'S', 4]\n",
      "analysing 206 [3, 'U', 'W', 1]\n",
      "wrong env\n",
      "analysing 206 [3, 'U', 'W', 2]\n",
      "wrong env\n",
      "analysing 206 [3, 'U', 'W', 3]\n",
      "wrong env\n",
      "analysing 206 [3, 'U', 'W', 4]\n",
      "wrong env\n",
      "analysing 206 [3, 'U', 'S', 1]\n",
      "wrong env\n",
      "analysing 206 [3, 'U', 'S', 2]\n",
      "wrong env\n",
      "analysing 206 [3, 'U', 'S', 3]\n",
      "wrong env\n",
      "analysing 206 [3, 'U', 'S', 4]\n",
      "wrong env\n",
      "analysing 206 [3, 'W', 'W', 1]\n",
      "analysing 206 [3, 'W', 'W', 2]\n",
      "analysing 206 [3, 'W', 'W', 3]\n",
      "analysing 206 [3, 'W', 'W', 4]\n",
      "analysing 206 [3, 'W', 'S', 1]\n",
      "analysing 206 [3, 'W', 'S', 2]\n",
      "analysing 206 [3, 'W', 'S', 3]\n",
      "analysing 206 [3, 'W', 'S', 4]\n",
      "analysing 206 [4, 'U', 'W', 1]\n",
      "wrong env\n",
      "analysing 206 [4, 'U', 'W', 2]\n",
      "wrong env\n",
      "analysing 206 [4, 'U', 'W', 3]\n",
      "wrong env\n",
      "analysing 206 [4, 'U', 'W', 4]\n",
      "wrong env\n",
      "analysing 206 [4, 'U', 'S', 1]\n",
      "wrong env\n",
      "analysing 206 [4, 'U', 'S', 2]\n",
      "wrong env\n",
      "analysing 206 [4, 'U', 'S', 3]\n",
      "wrong env\n",
      "analysing 206 [4, 'U', 'S', 4]\n",
      "wrong env\n",
      "analysing 206 [4, 'W', 'W', 1]\n",
      "analysing 206 [4, 'W', 'W', 2]\n",
      "analysing 206 [4, 'W', 'W', 3]\n",
      "analysing 206 [4, 'W', 'W', 4]\n",
      "analysing 206 [4, 'W', 'S', 1]\n",
      "analysing 206 [4, 'W', 'S', 2]\n",
      "analysing 206 [4, 'W', 'S', 3]\n",
      "analysing 206 [4, 'W', 'S', 4]\n",
      "analysing 206 [5, 'U', 'W', 1]\n",
      "wrong env\n",
      "analysing 206 [5, 'U', 'W', 2]\n",
      "wrong env\n",
      "analysing 206 [5, 'U', 'W', 3]\n",
      "wrong env\n",
      "analysing 206 [5, 'U', 'W', 4]\n",
      "wrong env\n",
      "analysing 206 [5, 'U', 'S', 1]\n",
      "wrong env\n",
      "analysing 206 [5, 'U', 'S', 2]\n",
      "wrong env\n",
      "analysing 206 [5, 'U', 'S', 3]\n",
      "wrong env\n",
      "analysing 206 [5, 'U', 'S', 4]\n",
      "wrong env\n",
      "analysing 206 [5, 'W', 'W', 1]\n",
      "analysing 206 [5, 'W', 'W', 2]\n",
      "analysing 206 [5, 'W', 'W', 3]\n",
      "analysing 206 [5, 'W', 'W', 4]\n",
      "analysing 206 [5, 'W', 'S', 1]\n",
      "analysing 206 [5, 'W', 'S', 2]\n",
      "analysing 206 [5, 'W', 'S', 3]\n",
      "analysing 206 [5, 'W', 'S', 4]\n",
      "analysing 206 [6, 'U', 'W', 1]\n",
      "wrong env\n",
      "analysing 206 [6, 'U', 'W', 2]\n",
      "wrong env\n",
      "analysing 206 [6, 'U', 'W', 3]\n",
      "wrong env\n",
      "analysing 206 [6, 'U', 'W', 4]\n",
      "wrong env\n",
      "analysing 206 [6, 'U', 'S', 1]\n",
      "wrong env\n",
      "analysing 206 [6, 'U', 'S', 2]\n",
      "wrong env\n",
      "analysing 206 [6, 'U', 'S', 3]\n",
      "wrong env\n",
      "analysing 206 [6, 'U', 'S', 4]\n",
      "wrong env\n",
      "analysing 206 [6, 'W', 'W', 1]\n",
      "analysing 206 [6, 'W', 'W', 2]\n",
      "analysing 206 [6, 'W', 'W', 3]\n",
      "analysing 206 [6, 'W', 'W', 4]\n",
      "analysing 206 [6, 'W', 'S', 1]\n",
      "analysing 206 [6, 'W', 'S', 2]\n",
      "analysing 206 [6, 'W', 'S', 3]\n",
      "analysing 206 [6, 'W', 'S', 4]\n",
      "analysing 206 [7, 'U', 'W', 1]\n",
      "wrong env\n",
      "analysing 206 [7, 'U', 'W', 2]\n",
      "wrong env\n",
      "analysing 206 [7, 'U', 'W', 3]\n",
      "wrong env\n",
      "analysing 206 [7, 'U', 'W', 4]\n",
      "wrong env\n",
      "analysing 206 [7, 'U', 'S', 1]\n",
      "wrong env\n",
      "analysing 206 [7, 'U', 'S', 2]\n",
      "wrong env\n",
      "analysing 206 [7, 'U', 'S', 3]\n",
      "wrong env\n",
      "analysing 206 [7, 'U', 'S', 4]\n",
      "wrong env\n",
      "analysing 206 [7, 'W', 'W', 1]\n",
      "analysing 206 [7, 'W', 'W', 2]\n",
      "analysing 206 [7, 'W', 'W', 3]\n",
      "analysing 206 [7, 'W', 'W', 4]\n",
      "analysing 206 [7, 'W', 'S', 1]\n",
      "analysing 206 [7, 'W', 'S', 2]\n",
      "analysing 206 [7, 'W', 'S', 3]\n",
      "analysing 206 [7, 'W', 'S', 4]\n",
      "analysing 207 [0, 'U', 'W', 1]\n",
      "wrong env\n",
      "analysing 207 [0, 'U', 'W', 2]\n",
      "wrong env\n",
      "analysing 207 [0, 'U', 'W', 3]\n",
      "wrong env\n",
      "analysing 207 [0, 'U', 'W', 4]\n",
      "wrong env\n",
      "analysing 207 [0, 'U', 'S', 1]\n",
      "wrong env\n",
      "analysing 207 [0, 'U', 'S', 2]\n",
      "wrong env\n",
      "analysing 207 [0, 'U', 'S', 3]\n",
      "wrong env\n",
      "analysing 207 [0, 'U', 'S', 4]\n",
      "wrong env\n",
      "analysing 207 [0, 'W', 'W', 1]\n",
      "analysing 207 [0, 'W', 'W', 2]\n",
      "analysing 207 [0, 'W', 'W', 3]\n",
      "analysing 207 [0, 'W', 'W', 4]\n",
      "analysing 207 [0, 'W', 'S', 1]\n",
      "analysing 207 [0, 'W', 'S', 2]\n",
      "analysing 207 [0, 'W', 'S', 3]\n",
      "analysing 207 [0, 'W', 'S', 4]\n",
      "analysing 207 [1, 'U', 'W', 1]\n",
      "wrong env\n",
      "analysing 207 [1, 'U', 'W', 2]\n",
      "wrong env\n",
      "analysing 207 [1, 'U', 'W', 3]\n",
      "wrong env\n",
      "analysing 207 [1, 'U', 'W', 4]\n",
      "wrong env\n",
      "analysing 207 [1, 'U', 'S', 1]\n",
      "wrong env\n",
      "analysing 207 [1, 'U', 'S', 2]\n",
      "wrong env\n",
      "analysing 207 [1, 'U', 'S', 3]\n",
      "wrong env\n",
      "analysing 207 [1, 'U', 'S', 4]\n",
      "wrong env\n",
      "analysing 207 [1, 'W', 'W', 1]\n",
      "analysing 207 [1, 'W', 'W', 2]\n",
      "analysing 207 [1, 'W', 'W', 3]\n",
      "analysing 207 [1, 'W', 'W', 4]\n",
      "analysing 207 [1, 'W', 'S', 1]\n",
      "analysing 207 [1, 'W', 'S', 2]\n",
      "analysing 207 [1, 'W', 'S', 3]\n",
      "analysing 207 [1, 'W', 'S', 4]\n",
      "analysing 207 [2, 'U', 'W', 1]\n",
      "wrong env\n",
      "analysing 207 [2, 'U', 'W', 2]\n",
      "wrong env\n",
      "analysing 207 [2, 'U', 'W', 3]\n",
      "wrong env\n",
      "analysing 207 [2, 'U', 'W', 4]\n",
      "wrong env\n",
      "analysing 207 [2, 'U', 'S', 1]\n",
      "wrong env\n",
      "analysing 207 [2, 'U', 'S', 2]\n",
      "wrong env\n",
      "analysing 207 [2, 'U', 'S', 3]\n",
      "wrong env\n",
      "analysing 207 [2, 'U', 'S', 4]\n",
      "wrong env\n",
      "analysing 207 [2, 'W', 'W', 1]\n",
      "analysing 207 [2, 'W', 'W', 2]\n",
      "analysing 207 [2, 'W', 'W', 3]\n",
      "analysing 207 [2, 'W', 'W', 4]\n",
      "analysing 207 [2, 'W', 'S', 1]\n",
      "analysing 207 [2, 'W', 'S', 2]\n",
      "analysing 207 [2, 'W', 'S', 3]\n",
      "analysing 207 [2, 'W', 'S', 4]\n",
      "analysing 207 [3, 'U', 'W', 1]\n",
      "wrong env\n",
      "analysing 207 [3, 'U', 'W', 2]\n",
      "wrong env\n",
      "analysing 207 [3, 'U', 'W', 3]\n",
      "wrong env\n",
      "analysing 207 [3, 'U', 'W', 4]\n",
      "wrong env\n",
      "analysing 207 [3, 'U', 'S', 1]\n",
      "wrong env\n",
      "analysing 207 [3, 'U', 'S', 2]\n",
      "wrong env\n",
      "analysing 207 [3, 'U', 'S', 3]\n",
      "wrong env\n",
      "analysing 207 [3, 'U', 'S', 4]\n",
      "wrong env\n",
      "analysing 207 [3, 'W', 'W', 1]\n",
      "analysing 207 [3, 'W', 'W', 2]\n",
      "analysing 207 [3, 'W', 'W', 3]\n",
      "analysing 207 [3, 'W', 'W', 4]\n",
      "analysing 207 [3, 'W', 'S', 1]\n",
      "analysing 207 [3, 'W', 'S', 2]\n",
      "analysing 207 [3, 'W', 'S', 3]\n",
      "analysing 207 [3, 'W', 'S', 4]\n",
      "analysing 207 [4, 'U', 'W', 1]\n",
      "wrong env\n",
      "analysing 207 [4, 'U', 'W', 2]\n",
      "wrong env\n",
      "analysing 207 [4, 'U', 'W', 3]\n",
      "wrong env\n",
      "analysing 207 [4, 'U', 'W', 4]\n",
      "wrong env\n",
      "analysing 207 [4, 'U', 'S', 1]\n",
      "wrong env\n",
      "analysing 207 [4, 'U', 'S', 2]\n",
      "wrong env\n",
      "analysing 207 [4, 'U', 'S', 3]\n",
      "wrong env\n",
      "analysing 207 [4, 'U', 'S', 4]\n",
      "wrong env\n",
      "analysing 207 [4, 'W', 'W', 1]\n",
      "analysing 207 [4, 'W', 'W', 2]\n",
      "analysing 207 [4, 'W', 'W', 3]\n",
      "analysing 207 [4, 'W', 'W', 4]\n",
      "analysing 207 [4, 'W', 'S', 1]\n",
      "analysing 207 [4, 'W', 'S', 2]\n",
      "analysing 207 [4, 'W', 'S', 3]\n",
      "analysing 207 [4, 'W', 'S', 4]\n",
      "analysing 207 [5, 'U', 'W', 1]\n",
      "wrong env\n",
      "analysing 207 [5, 'U', 'W', 2]\n",
      "wrong env\n",
      "analysing 207 [5, 'U', 'W', 3]\n",
      "wrong env\n",
      "analysing 207 [5, 'U', 'W', 4]\n",
      "wrong env\n",
      "analysing 207 [5, 'U', 'S', 1]\n",
      "wrong env\n",
      "analysing 207 [5, 'U', 'S', 2]\n",
      "wrong env\n",
      "analysing 207 [5, 'U', 'S', 3]\n",
      "wrong env\n",
      "analysing 207 [5, 'U', 'S', 4]\n",
      "wrong env\n",
      "analysing 207 [5, 'W', 'W', 1]\n",
      "analysing 207 [5, 'W', 'W', 2]\n",
      "analysing 207 [5, 'W', 'W', 3]\n",
      "analysing 207 [5, 'W', 'W', 4]\n",
      "analysing 207 [5, 'W', 'S', 1]\n",
      "analysing 207 [5, 'W', 'S', 2]\n",
      "analysing 207 [5, 'W', 'S', 3]\n",
      "analysing 207 [5, 'W', 'S', 4]\n",
      "analysing 207 [6, 'U', 'W', 1]\n",
      "wrong env\n",
      "analysing 207 [6, 'U', 'W', 2]\n",
      "wrong env\n",
      "analysing 207 [6, 'U', 'W', 3]\n",
      "wrong env\n",
      "analysing 207 [6, 'U', 'W', 4]\n",
      "wrong env\n",
      "analysing 207 [6, 'U', 'S', 1]\n",
      "wrong env\n",
      "analysing 207 [6, 'U', 'S', 2]\n",
      "wrong env\n",
      "analysing 207 [6, 'U', 'S', 3]\n",
      "wrong env\n",
      "analysing 207 [6, 'U', 'S', 4]\n",
      "wrong env\n",
      "analysing 207 [6, 'W', 'W', 1]\n",
      "analysing 207 [6, 'W', 'W', 2]\n",
      "analysing 207 [6, 'W', 'W', 3]\n",
      "analysing 207 [6, 'W', 'W', 4]\n",
      "analysing 207 [6, 'W', 'S', 1]\n",
      "analysing 207 [6, 'W', 'S', 2]\n",
      "analysing 207 [6, 'W', 'S', 3]\n",
      "analysing 207 [6, 'W', 'S', 4]\n",
      "analysing 207 [7, 'U', 'W', 1]\n",
      "wrong env\n",
      "analysing 207 [7, 'U', 'W', 2]\n",
      "wrong env\n",
      "analysing 207 [7, 'U', 'W', 3]\n",
      "wrong env\n",
      "analysing 207 [7, 'U', 'W', 4]\n",
      "wrong env\n",
      "analysing 207 [7, 'U', 'S', 1]\n",
      "wrong env\n",
      "analysing 207 [7, 'U', 'S', 2]\n",
      "wrong env\n",
      "analysing 207 [7, 'U', 'S', 3]\n",
      "wrong env\n",
      "analysing 207 [7, 'U', 'S', 4]\n",
      "wrong env\n",
      "analysing 207 [7, 'W', 'W', 1]\n",
      "analysing 207 [7, 'W', 'W', 2]\n",
      "analysing 207 [7, 'W', 'W', 3]\n",
      "analysing 207 [7, 'W', 'W', 4]\n",
      "analysing 207 [7, 'W', 'S', 1]\n",
      "analysing 207 [7, 'W', 'S', 2]\n",
      "analysing 207 [7, 'W', 'S', 3]\n",
      "analysing 207 [7, 'W', 'S', 4]\n",
      "analysing 208 [0, 'U', 'W', 1]\n",
      "wrong env\n",
      "analysing 208 [0, 'U', 'W', 2]\n",
      "wrong env\n",
      "analysing 208 [0, 'U', 'W', 3]\n",
      "wrong env\n",
      "analysing 208 [0, 'U', 'W', 4]\n",
      "wrong env\n",
      "analysing 208 [0, 'U', 'S', 1]\n",
      "wrong env\n",
      "analysing 208 [0, 'U', 'S', 2]\n",
      "wrong env\n",
      "analysing 208 [0, 'U', 'S', 3]\n",
      "wrong env\n",
      "analysing 208 [0, 'U', 'S', 4]\n",
      "wrong env\n",
      "analysing 208 [0, 'W', 'W', 1]\n",
      "analysing 208 [0, 'W', 'W', 2]\n",
      "analysing 208 [0, 'W', 'W', 3]\n",
      "analysing 208 [0, 'W', 'W', 4]\n",
      "analysing 208 [0, 'W', 'S', 1]\n",
      "analysing 208 [0, 'W', 'S', 2]\n",
      "analysing 208 [0, 'W', 'S', 3]\n",
      "analysing 208 [0, 'W', 'S', 4]\n",
      "analysing 208 [1, 'U', 'W', 1]\n",
      "wrong env\n",
      "analysing 208 [1, 'U', 'W', 2]\n",
      "wrong env\n",
      "analysing 208 [1, 'U', 'W', 3]\n",
      "wrong env\n",
      "analysing 208 [1, 'U', 'W', 4]\n",
      "wrong env\n",
      "analysing 208 [1, 'U', 'S', 1]\n",
      "wrong env\n",
      "analysing 208 [1, 'U', 'S', 2]\n",
      "wrong env\n",
      "analysing 208 [1, 'U', 'S', 3]\n",
      "wrong env\n",
      "analysing 208 [1, 'U', 'S', 4]\n",
      "wrong env\n",
      "analysing 208 [1, 'W', 'W', 1]\n",
      "analysing 208 [1, 'W', 'W', 2]\n",
      "analysing 208 [1, 'W', 'W', 3]\n",
      "analysing 208 [1, 'W', 'W', 4]\n",
      "analysing 208 [1, 'W', 'S', 1]\n",
      "analysing 208 [1, 'W', 'S', 2]\n",
      "analysing 208 [1, 'W', 'S', 3]\n",
      "analysing 208 [1, 'W', 'S', 4]\n",
      "analysing 208 [2, 'U', 'W', 1]\n",
      "wrong env\n",
      "analysing 208 [2, 'U', 'W', 2]\n",
      "wrong env\n",
      "analysing 208 [2, 'U', 'W', 3]\n",
      "wrong env\n",
      "analysing 208 [2, 'U', 'W', 4]\n",
      "wrong env\n",
      "analysing 208 [2, 'U', 'S', 1]\n",
      "wrong env\n",
      "analysing 208 [2, 'U', 'S', 2]\n",
      "wrong env\n",
      "analysing 208 [2, 'U', 'S', 3]\n",
      "wrong env\n",
      "analysing 208 [2, 'U', 'S', 4]\n",
      "wrong env\n",
      "analysing 208 [2, 'W', 'W', 1]\n",
      "analysing 208 [2, 'W', 'W', 2]\n",
      "analysing 208 [2, 'W', 'W', 3]\n",
      "analysing 208 [2, 'W', 'W', 4]\n",
      "analysing 208 [2, 'W', 'S', 1]\n",
      "analysing 208 [2, 'W', 'S', 2]\n",
      "analysing 208 [2, 'W', 'S', 3]\n",
      "analysing 208 [2, 'W', 'S', 4]\n",
      "analysing 208 [3, 'U', 'W', 1]\n",
      "wrong env\n",
      "analysing 208 [3, 'U', 'W', 2]\n",
      "wrong env\n",
      "analysing 208 [3, 'U', 'W', 3]\n",
      "wrong env\n",
      "analysing 208 [3, 'U', 'W', 4]\n",
      "wrong env\n",
      "analysing 208 [3, 'U', 'S', 1]\n",
      "wrong env\n",
      "analysing 208 [3, 'U', 'S', 2]\n",
      "wrong env\n",
      "analysing 208 [3, 'U', 'S', 3]\n",
      "wrong env\n",
      "analysing 208 [3, 'U', 'S', 4]\n",
      "wrong env\n",
      "analysing 208 [3, 'W', 'W', 1]\n",
      "analysing 208 [3, 'W', 'W', 2]\n",
      "analysing 208 [3, 'W', 'W', 3]\n",
      "analysing 208 [3, 'W', 'W', 4]\n",
      "analysing 208 [3, 'W', 'S', 1]\n",
      "analysing 208 [3, 'W', 'S', 2]\n",
      "analysing 208 [3, 'W', 'S', 3]\n",
      "analysing 208 [3, 'W', 'S', 4]\n",
      "analysing 208 [4, 'U', 'W', 1]\n",
      "wrong env\n",
      "analysing 208 [4, 'U', 'W', 2]\n",
      "wrong env\n",
      "analysing 208 [4, 'U', 'W', 3]\n",
      "wrong env\n",
      "analysing 208 [4, 'U', 'W', 4]\n",
      "wrong env\n",
      "analysing 208 [4, 'U', 'S', 1]\n",
      "wrong env\n",
      "analysing 208 [4, 'U', 'S', 2]\n",
      "wrong env\n",
      "analysing 208 [4, 'U', 'S', 3]\n",
      "wrong env\n",
      "analysing 208 [4, 'U', 'S', 4]\n",
      "wrong env\n",
      "analysing 208 [4, 'W', 'W', 1]\n",
      "analysing 208 [4, 'W', 'W', 2]\n",
      "analysing 208 [4, 'W', 'W', 3]\n",
      "analysing 208 [4, 'W', 'W', 4]\n",
      "analysing 208 [4, 'W', 'S', 1]\n",
      "analysing 208 [4, 'W', 'S', 2]\n",
      "analysing 208 [4, 'W', 'S', 3]\n",
      "analysing 208 [4, 'W', 'S', 4]\n",
      "analysing 208 [5, 'U', 'W', 1]\n",
      "wrong env\n",
      "analysing 208 [5, 'U', 'W', 2]\n",
      "wrong env\n",
      "analysing 208 [5, 'U', 'W', 3]\n",
      "wrong env\n",
      "analysing 208 [5, 'U', 'W', 4]\n",
      "wrong env\n",
      "analysing 208 [5, 'U', 'S', 1]\n",
      "wrong env\n",
      "analysing 208 [5, 'U', 'S', 2]\n",
      "wrong env\n",
      "analysing 208 [5, 'U', 'S', 3]\n",
      "wrong env\n",
      "analysing 208 [5, 'U', 'S', 4]\n",
      "wrong env\n",
      "analysing 208 [5, 'W', 'W', 1]\n",
      "analysing 208 [5, 'W', 'W', 2]\n",
      "analysing 208 [5, 'W', 'W', 3]\n",
      "analysing 208 [5, 'W', 'W', 4]\n",
      "analysing 208 [5, 'W', 'S', 1]\n",
      "analysing 208 [5, 'W', 'S', 2]\n",
      "analysing 208 [5, 'W', 'S', 3]\n",
      "analysing 208 [5, 'W', 'S', 4]\n",
      "analysing 208 [6, 'U', 'W', 1]\n",
      "wrong env\n",
      "analysing 208 [6, 'U', 'W', 2]\n",
      "wrong env\n",
      "analysing 208 [6, 'U', 'W', 3]\n",
      "wrong env\n",
      "analysing 208 [6, 'U', 'W', 4]\n",
      "wrong env\n",
      "analysing 208 [6, 'U', 'S', 1]\n",
      "wrong env\n",
      "analysing 208 [6, 'U', 'S', 2]\n",
      "wrong env\n",
      "analysing 208 [6, 'U', 'S', 3]\n",
      "wrong env\n",
      "analysing 208 [6, 'U', 'S', 4]\n",
      "wrong env\n",
      "analysing 208 [6, 'W', 'W', 1]\n",
      "analysing 208 [6, 'W', 'W', 2]\n",
      "analysing 208 [6, 'W', 'W', 3]\n",
      "analysing 208 [6, 'W', 'W', 4]\n",
      "analysing 208 [6, 'W', 'S', 1]\n",
      "analysing 208 [6, 'W', 'S', 2]\n",
      "analysing 208 [6, 'W', 'S', 3]\n",
      "analysing 208 [6, 'W', 'S', 4]\n",
      "analysing 208 [7, 'U', 'W', 1]\n",
      "wrong env\n",
      "analysing 208 [7, 'U', 'W', 2]\n",
      "wrong env\n",
      "analysing 208 [7, 'U', 'W', 3]\n",
      "wrong env\n",
      "analysing 208 [7, 'U', 'W', 4]\n",
      "wrong env\n",
      "analysing 208 [7, 'U', 'S', 1]\n",
      "wrong env\n",
      "analysing 208 [7, 'U', 'S', 2]\n",
      "wrong env\n",
      "analysing 208 [7, 'U', 'S', 3]\n",
      "wrong env\n",
      "analysing 208 [7, 'U', 'S', 4]\n",
      "wrong env\n",
      "analysing 208 [7, 'W', 'W', 1]\n",
      "analysing 208 [7, 'W', 'W', 2]\n",
      "analysing 208 [7, 'W', 'W', 3]\n",
      "analysing 208 [7, 'W', 'W', 4]\n",
      "analysing 208 [7, 'W', 'S', 1]\n",
      "analysing 208 [7, 'W', 'S', 2]\n",
      "analysing 208 [7, 'W', 'S', 3]\n",
      "analysing 208 [7, 'W', 'S', 4]\n",
      "analysing 209 [0, 'U', 'W', 1]\n",
      "wrong env\n",
      "analysing 209 [0, 'U', 'W', 2]\n",
      "wrong env\n",
      "analysing 209 [0, 'U', 'W', 3]\n",
      "wrong env\n",
      "analysing 209 [0, 'U', 'W', 4]\n",
      "wrong env\n",
      "analysing 209 [0, 'U', 'S', 1]\n",
      "wrong env\n",
      "analysing 209 [0, 'U', 'S', 2]\n",
      "wrong env\n",
      "analysing 209 [0, 'U', 'S', 3]\n",
      "wrong env\n",
      "analysing 209 [0, 'U', 'S', 4]\n",
      "wrong env\n",
      "analysing 209 [0, 'W', 'W', 1]\n",
      "analysing 209 [0, 'W', 'W', 2]\n",
      "analysing 209 [0, 'W', 'W', 3]\n",
      "analysing 209 [0, 'W', 'W', 4]\n",
      "analysing 209 [0, 'W', 'S', 1]\n",
      "analysing 209 [0, 'W', 'S', 2]\n",
      "analysing 209 [0, 'W', 'S', 3]\n",
      "analysing 209 [0, 'W', 'S', 4]\n",
      "analysing 209 [1, 'U', 'W', 1]\n",
      "wrong env\n",
      "analysing 209 [1, 'U', 'W', 2]\n",
      "wrong env\n",
      "analysing 209 [1, 'U', 'W', 3]\n",
      "wrong env\n",
      "analysing 209 [1, 'U', 'W', 4]\n",
      "wrong env\n",
      "analysing 209 [1, 'U', 'S', 1]\n",
      "wrong env\n",
      "analysing 209 [1, 'U', 'S', 2]\n",
      "wrong env\n",
      "analysing 209 [1, 'U', 'S', 3]\n",
      "wrong env\n",
      "analysing 209 [1, 'U', 'S', 4]\n",
      "wrong env\n",
      "analysing 209 [1, 'W', 'W', 1]\n",
      "analysing 209 [1, 'W', 'W', 2]\n",
      "analysing 209 [1, 'W', 'W', 3]\n",
      "analysing 209 [1, 'W', 'W', 4]\n",
      "analysing 209 [1, 'W', 'S', 1]\n",
      "analysing 209 [1, 'W', 'S', 2]\n",
      "analysing 209 [1, 'W', 'S', 3]\n",
      "analysing 209 [1, 'W', 'S', 4]\n",
      "analysing 209 [2, 'U', 'W', 1]\n",
      "wrong env\n",
      "analysing 209 [2, 'U', 'W', 2]\n",
      "wrong env\n",
      "analysing 209 [2, 'U', 'W', 3]\n",
      "wrong env\n",
      "analysing 209 [2, 'U', 'W', 4]\n",
      "wrong env\n",
      "analysing 209 [2, 'U', 'S', 1]\n",
      "wrong env\n",
      "analysing 209 [2, 'U', 'S', 2]\n",
      "wrong env\n",
      "analysing 209 [2, 'U', 'S', 3]\n",
      "wrong env\n",
      "analysing 209 [2, 'U', 'S', 4]\n",
      "wrong env\n",
      "analysing 209 [2, 'W', 'W', 1]\n",
      "analysing 209 [2, 'W', 'W', 2]\n",
      "analysing 209 [2, 'W', 'W', 3]\n",
      "analysing 209 [2, 'W', 'W', 4]\n",
      "analysing 209 [2, 'W', 'S', 1]\n",
      "analysing 209 [2, 'W', 'S', 2]\n",
      "analysing 209 [2, 'W', 'S', 3]\n",
      "analysing 209 [2, 'W', 'S', 4]\n",
      "analysing 209 [3, 'U', 'W', 1]\n",
      "wrong env\n",
      "analysing 209 [3, 'U', 'W', 2]\n",
      "wrong env\n",
      "analysing 209 [3, 'U', 'W', 3]\n",
      "wrong env\n",
      "analysing 209 [3, 'U', 'W', 4]\n",
      "wrong env\n",
      "analysing 209 [3, 'U', 'S', 1]\n",
      "wrong env\n",
      "analysing 209 [3, 'U', 'S', 2]\n",
      "wrong env\n",
      "analysing 209 [3, 'U', 'S', 3]\n",
      "wrong env\n",
      "analysing 209 [3, 'U', 'S', 4]\n",
      "wrong env\n",
      "analysing 209 [3, 'W', 'W', 1]\n",
      "analysing 209 [3, 'W', 'W', 2]\n",
      "analysing 209 [3, 'W', 'W', 3]\n",
      "analysing 209 [3, 'W', 'W', 4]\n",
      "analysing 209 [3, 'W', 'S', 1]\n",
      "analysing 209 [3, 'W', 'S', 2]\n",
      "analysing 209 [3, 'W', 'S', 3]\n",
      "analysing 209 [3, 'W', 'S', 4]\n",
      "analysing 209 [4, 'U', 'W', 1]\n",
      "wrong env\n",
      "analysing 209 [4, 'U', 'W', 2]\n",
      "wrong env\n",
      "analysing 209 [4, 'U', 'W', 3]\n",
      "wrong env\n",
      "analysing 209 [4, 'U', 'W', 4]\n",
      "wrong env\n",
      "analysing 209 [4, 'U', 'S', 1]\n",
      "wrong env\n",
      "analysing 209 [4, 'U', 'S', 2]\n",
      "wrong env\n",
      "analysing 209 [4, 'U', 'S', 3]\n",
      "wrong env\n",
      "analysing 209 [4, 'U', 'S', 4]\n",
      "wrong env\n",
      "analysing 209 [4, 'W', 'W', 1]\n",
      "analysing 209 [4, 'W', 'W', 2]\n",
      "analysing 209 [4, 'W', 'W', 3]\n",
      "analysing 209 [4, 'W', 'W', 4]\n",
      "analysing 209 [4, 'W', 'S', 1]\n",
      "analysing 209 [4, 'W', 'S', 2]\n",
      "analysing 209 [4, 'W', 'S', 3]\n",
      "analysing 209 [4, 'W', 'S', 4]\n",
      "analysing 209 [5, 'U', 'W', 1]\n",
      "wrong env\n",
      "analysing 209 [5, 'U', 'W', 2]\n",
      "wrong env\n",
      "analysing 209 [5, 'U', 'W', 3]\n",
      "wrong env\n",
      "analysing 209 [5, 'U', 'W', 4]\n",
      "wrong env\n",
      "analysing 209 [5, 'U', 'S', 1]\n",
      "wrong env\n",
      "analysing 209 [5, 'U', 'S', 2]\n",
      "wrong env\n",
      "analysing 209 [5, 'U', 'S', 3]\n",
      "wrong env\n",
      "analysing 209 [5, 'U', 'S', 4]\n",
      "wrong env\n",
      "analysing 209 [5, 'W', 'W', 1]\n",
      "analysing 209 [5, 'W', 'W', 2]\n",
      "analysing 209 [5, 'W', 'W', 3]\n",
      "analysing 209 [5, 'W', 'W', 4]\n",
      "analysing 209 [5, 'W', 'S', 1]\n",
      "analysing 209 [5, 'W', 'S', 2]\n",
      "analysing 209 [5, 'W', 'S', 3]\n",
      "analysing 209 [5, 'W', 'S', 4]\n",
      "analysing 209 [6, 'U', 'W', 1]\n",
      "wrong env\n",
      "analysing 209 [6, 'U', 'W', 2]\n",
      "wrong env\n",
      "analysing 209 [6, 'U', 'W', 3]\n",
      "wrong env\n",
      "analysing 209 [6, 'U', 'W', 4]\n",
      "wrong env\n",
      "analysing 209 [6, 'U', 'S', 1]\n",
      "wrong env\n",
      "analysing 209 [6, 'U', 'S', 2]\n",
      "wrong env\n",
      "analysing 209 [6, 'U', 'S', 3]\n",
      "wrong env\n",
      "analysing 209 [6, 'U', 'S', 4]\n",
      "wrong env\n",
      "analysing 209 [6, 'W', 'W', 1]\n",
      "analysing 209 [6, 'W', 'W', 2]\n",
      "analysing 209 [6, 'W', 'W', 3]\n",
      "analysing 209 [6, 'W', 'W', 4]\n",
      "analysing 209 [6, 'W', 'S', 1]\n",
      "analysing 209 [6, 'W', 'S', 2]\n",
      "analysing 209 [6, 'W', 'S', 3]\n",
      "analysing 209 [6, 'W', 'S', 4]\n",
      "analysing 209 [7, 'U', 'W', 1]\n",
      "wrong env\n",
      "analysing 209 [7, 'U', 'W', 2]\n",
      "wrong env\n",
      "analysing 209 [7, 'U', 'W', 3]\n",
      "wrong env\n",
      "analysing 209 [7, 'U', 'W', 4]\n",
      "wrong env\n",
      "analysing 209 [7, 'U', 'S', 1]\n",
      "wrong env\n",
      "analysing 209 [7, 'U', 'S', 2]\n",
      "wrong env\n",
      "analysing 209 [7, 'U', 'S', 3]\n",
      "wrong env\n",
      "analysing 209 [7, 'U', 'S', 4]\n",
      "wrong env\n",
      "analysing 209 [7, 'W', 'W', 1]\n",
      "analysing 209 [7, 'W', 'W', 2]\n",
      "analysing 209 [7, 'W', 'W', 3]\n",
      "analysing 209 [7, 'W', 'W', 4]\n",
      "analysing 209 [7, 'W', 'S', 1]\n",
      "analysing 209 [7, 'W', 'S', 2]\n",
      "analysing 209 [7, 'W', 'S', 3]\n",
      "analysing 209 [7, 'W', 'S', 4]\n",
      "analysing 210 [0, 'U', 'W', 1]\n",
      "wrong env\n",
      "analysing 210 [0, 'U', 'W', 2]\n",
      "wrong env\n",
      "analysing 210 [0, 'U', 'W', 3]\n",
      "wrong env\n",
      "analysing 210 [0, 'U', 'W', 4]\n",
      "wrong env\n",
      "analysing 210 [0, 'U', 'S', 1]\n",
      "wrong env\n",
      "analysing 210 [0, 'U', 'S', 2]\n",
      "wrong env\n",
      "analysing 210 [0, 'U', 'S', 3]\n",
      "wrong env\n",
      "analysing 210 [0, 'U', 'S', 4]\n",
      "wrong env\n",
      "analysing 210 [0, 'W', 'W', 1]\n",
      "analysing 210 [0, 'W', 'W', 2]\n",
      "analysing 210 [0, 'W', 'W', 3]\n",
      "analysing 210 [0, 'W', 'W', 4]\n",
      "analysing 210 [0, 'W', 'S', 1]\n",
      "analysing 210 [0, 'W', 'S', 2]\n",
      "analysing 210 [0, 'W', 'S', 3]\n",
      "analysing 210 [0, 'W', 'S', 4]\n",
      "analysing 210 [1, 'U', 'W', 1]\n",
      "wrong env\n",
      "analysing 210 [1, 'U', 'W', 2]\n",
      "wrong env\n",
      "analysing 210 [1, 'U', 'W', 3]\n",
      "wrong env\n",
      "analysing 210 [1, 'U', 'W', 4]\n",
      "wrong env\n",
      "analysing 210 [1, 'U', 'S', 1]\n",
      "wrong env\n",
      "analysing 210 [1, 'U', 'S', 2]\n",
      "wrong env\n",
      "analysing 210 [1, 'U', 'S', 3]\n",
      "wrong env\n",
      "analysing 210 [1, 'U', 'S', 4]\n",
      "wrong env\n",
      "analysing 210 [1, 'W', 'W', 1]\n",
      "analysing 210 [1, 'W', 'W', 2]\n",
      "analysing 210 [1, 'W', 'W', 3]\n",
      "analysing 210 [1, 'W', 'W', 4]\n",
      "analysing 210 [1, 'W', 'S', 1]\n",
      "analysing 210 [1, 'W', 'S', 2]\n",
      "analysing 210 [1, 'W', 'S', 3]\n",
      "analysing 210 [1, 'W', 'S', 4]\n",
      "analysing 210 [2, 'U', 'W', 1]\n",
      "wrong env\n",
      "analysing 210 [2, 'U', 'W', 2]\n",
      "wrong env\n",
      "analysing 210 [2, 'U', 'W', 3]\n",
      "wrong env\n",
      "analysing 210 [2, 'U', 'W', 4]\n",
      "wrong env\n",
      "analysing 210 [2, 'U', 'S', 1]\n",
      "wrong env\n",
      "analysing 210 [2, 'U', 'S', 2]\n",
      "wrong env\n",
      "analysing 210 [2, 'U', 'S', 3]\n",
      "wrong env\n",
      "analysing 210 [2, 'U', 'S', 4]\n",
      "wrong env\n",
      "analysing 210 [2, 'W', 'W', 1]\n",
      "analysing 210 [2, 'W', 'W', 2]\n",
      "analysing 210 [2, 'W', 'W', 3]\n",
      "analysing 210 [2, 'W', 'W', 4]\n",
      "analysing 210 [2, 'W', 'S', 1]\n",
      "analysing 210 [2, 'W', 'S', 2]\n",
      "analysing 210 [2, 'W', 'S', 3]\n",
      "analysing 210 [2, 'W', 'S', 4]\n",
      "analysing 210 [3, 'U', 'W', 1]\n",
      "wrong env\n",
      "analysing 210 [3, 'U', 'W', 2]\n",
      "wrong env\n",
      "analysing 210 [3, 'U', 'W', 3]\n",
      "wrong env\n",
      "analysing 210 [3, 'U', 'W', 4]\n",
      "wrong env\n",
      "analysing 210 [3, 'U', 'S', 1]\n",
      "wrong env\n",
      "analysing 210 [3, 'U', 'S', 2]\n",
      "wrong env\n",
      "analysing 210 [3, 'U', 'S', 3]\n",
      "wrong env\n",
      "analysing 210 [3, 'U', 'S', 4]\n",
      "wrong env\n",
      "analysing 210 [3, 'W', 'W', 1]\n",
      "analysing 210 [3, 'W', 'W', 2]\n",
      "analysing 210 [3, 'W', 'W', 3]\n",
      "analysing 210 [3, 'W', 'W', 4]\n",
      "analysing 210 [3, 'W', 'S', 1]\n",
      "analysing 210 [3, 'W', 'S', 2]\n",
      "Fail in trial\n",
      "analysing 210 [3, 'W', 'S', 3]\n",
      "analysing 210 [3, 'W', 'S', 4]\n",
      "analysing 210 [4, 'U', 'W', 1]\n",
      "wrong env\n",
      "analysing 210 [4, 'U', 'W', 2]\n",
      "wrong env\n",
      "analysing 210 [4, 'U', 'W', 3]\n",
      "wrong env\n",
      "analysing 210 [4, 'U', 'W', 4]\n",
      "wrong env\n",
      "analysing 210 [4, 'U', 'S', 1]\n",
      "wrong env\n",
      "analysing 210 [4, 'U', 'S', 2]\n",
      "wrong env\n",
      "analysing 210 [4, 'U', 'S', 3]\n",
      "wrong env\n",
      "analysing 210 [4, 'U', 'S', 4]\n",
      "wrong env\n",
      "analysing 210 [4, 'W', 'W', 1]\n",
      "analysing 210 [4, 'W', 'W', 2]\n",
      "analysing 210 [4, 'W', 'W', 3]\n",
      "analysing 210 [4, 'W', 'W', 4]\n",
      "analysing 210 [4, 'W', 'S', 1]\n",
      "analysing 210 [4, 'W', 'S', 2]\n",
      "analysing 210 [4, 'W', 'S', 3]\n",
      "analysing 210 [4, 'W', 'S', 4]\n",
      "analysing 210 [5, 'U', 'W', 1]\n",
      "wrong env\n",
      "analysing 210 [5, 'U', 'W', 2]\n",
      "wrong env\n",
      "analysing 210 [5, 'U', 'W', 3]\n",
      "wrong env\n",
      "analysing 210 [5, 'U', 'W', 4]\n",
      "wrong env\n",
      "analysing 210 [5, 'U', 'S', 1]\n",
      "wrong env\n",
      "analysing 210 [5, 'U', 'S', 2]\n",
      "wrong env\n",
      "analysing 210 [5, 'U', 'S', 3]\n",
      "wrong env\n",
      "analysing 210 [5, 'U', 'S', 4]\n",
      "wrong env\n",
      "analysing 210 [5, 'W', 'W', 1]\n",
      "analysing 210 [5, 'W', 'W', 2]\n",
      "analysing 210 [5, 'W', 'W', 3]\n",
      "analysing 210 [5, 'W', 'W', 4]\n",
      "analysing 210 [5, 'W', 'S', 1]\n",
      "analysing 210 [5, 'W', 'S', 2]\n",
      "analysing 210 [5, 'W', 'S', 3]\n",
      "analysing 210 [5, 'W', 'S', 4]\n",
      "analysing 210 [6, 'U', 'W', 1]\n",
      "wrong env\n",
      "analysing 210 [6, 'U', 'W', 2]\n",
      "wrong env\n",
      "analysing 210 [6, 'U', 'W', 3]\n",
      "wrong env\n",
      "analysing 210 [6, 'U', 'W', 4]\n",
      "wrong env\n",
      "analysing 210 [6, 'U', 'S', 1]\n",
      "wrong env\n",
      "analysing 210 [6, 'U', 'S', 2]\n",
      "wrong env\n",
      "analysing 210 [6, 'U', 'S', 3]\n",
      "wrong env\n",
      "analysing 210 [6, 'U', 'S', 4]\n",
      "wrong env\n",
      "analysing 210 [6, 'W', 'W', 1]\n",
      "analysing 210 [6, 'W', 'W', 2]\n",
      "analysing 210 [6, 'W', 'W', 3]\n",
      "analysing 210 [6, 'W', 'W', 4]\n",
      "analysing 210 [6, 'W', 'S', 1]\n",
      "analysing 210 [6, 'W', 'S', 2]\n",
      "analysing 210 [6, 'W', 'S', 3]\n",
      "analysing 210 [6, 'W', 'S', 4]\n",
      "analysing 210 [7, 'U', 'W', 1]\n",
      "wrong env\n",
      "analysing 210 [7, 'U', 'W', 2]\n",
      "wrong env\n",
      "analysing 210 [7, 'U', 'W', 3]\n",
      "wrong env\n",
      "analysing 210 [7, 'U', 'W', 4]\n",
      "wrong env\n",
      "analysing 210 [7, 'U', 'S', 1]\n",
      "wrong env\n",
      "analysing 210 [7, 'U', 'S', 2]\n",
      "wrong env\n",
      "analysing 210 [7, 'U', 'S', 3]\n",
      "wrong env\n",
      "analysing 210 [7, 'U', 'S', 4]\n",
      "wrong env\n",
      "analysing 210 [7, 'W', 'W', 1]\n",
      "analysing 210 [7, 'W', 'W', 2]\n",
      "analysing 210 [7, 'W', 'W', 3]\n",
      "analysing 210 [7, 'W', 'W', 4]\n",
      "analysing 210 [7, 'W', 'S', 1]\n",
      "analysing 210 [7, 'W', 'S', 2]\n",
      "analysing 210 [7, 'W', 'S', 3]\n",
      "analysing 210 [7, 'W', 'S', 4]\n",
      "analysing 211 [0, 'U', 'W', 1]\n",
      "wrong env\n",
      "analysing 211 [0, 'U', 'W', 2]\n",
      "wrong env\n",
      "analysing 211 [0, 'U', 'W', 3]\n",
      "wrong env\n",
      "analysing 211 [0, 'U', 'W', 4]\n",
      "wrong env\n",
      "analysing 211 [0, 'U', 'S', 1]\n",
      "wrong env\n",
      "analysing 211 [0, 'U', 'S', 2]\n",
      "wrong env\n",
      "analysing 211 [0, 'U', 'S', 3]\n",
      "wrong env\n",
      "analysing 211 [0, 'U', 'S', 4]\n",
      "wrong env\n",
      "analysing 211 [0, 'W', 'W', 1]\n",
      "analysing 211 [0, 'W', 'W', 2]\n",
      "analysing 211 [0, 'W', 'W', 3]\n",
      "analysing 211 [0, 'W', 'W', 4]\n",
      "analysing 211 [0, 'W', 'S', 1]\n",
      "analysing 211 [0, 'W', 'S', 2]\n",
      "analysing 211 [0, 'W', 'S', 3]\n",
      "analysing 211 [0, 'W', 'S', 4]\n",
      "analysing 211 [1, 'U', 'W', 1]\n",
      "wrong env\n",
      "analysing 211 [1, 'U', 'W', 2]\n",
      "wrong env\n",
      "analysing 211 [1, 'U', 'W', 3]\n",
      "wrong env\n",
      "analysing 211 [1, 'U', 'W', 4]\n",
      "wrong env\n",
      "analysing 211 [1, 'U', 'S', 1]\n",
      "wrong env\n",
      "analysing 211 [1, 'U', 'S', 2]\n",
      "wrong env\n",
      "analysing 211 [1, 'U', 'S', 3]\n",
      "wrong env\n",
      "analysing 211 [1, 'U', 'S', 4]\n",
      "wrong env\n",
      "analysing 211 [1, 'W', 'W', 1]\n",
      "analysing 211 [1, 'W', 'W', 2]\n",
      "analysing 211 [1, 'W', 'W', 3]\n",
      "analysing 211 [1, 'W', 'W', 4]\n",
      "analysing 211 [1, 'W', 'S', 1]\n",
      "analysing 211 [1, 'W', 'S', 2]\n",
      "analysing 211 [1, 'W', 'S', 3]\n",
      "analysing 211 [1, 'W', 'S', 4]\n",
      "analysing 211 [2, 'U', 'W', 1]\n",
      "wrong env\n",
      "analysing 211 [2, 'U', 'W', 2]\n",
      "wrong env\n",
      "analysing 211 [2, 'U', 'W', 3]\n",
      "wrong env\n",
      "analysing 211 [2, 'U', 'W', 4]\n",
      "wrong env\n",
      "analysing 211 [2, 'U', 'S', 1]\n",
      "wrong env\n",
      "analysing 211 [2, 'U', 'S', 2]\n",
      "wrong env\n",
      "analysing 211 [2, 'U', 'S', 3]\n",
      "wrong env\n",
      "analysing 211 [2, 'U', 'S', 4]\n",
      "wrong env\n",
      "analysing 211 [2, 'W', 'W', 1]\n",
      "analysing 211 [2, 'W', 'W', 2]\n",
      "analysing 211 [2, 'W', 'W', 3]\n",
      "analysing 211 [2, 'W', 'W', 4]\n",
      "analysing 211 [2, 'W', 'S', 1]\n",
      "analysing 211 [2, 'W', 'S', 2]\n",
      "analysing 211 [2, 'W', 'S', 3]\n",
      "analysing 211 [2, 'W', 'S', 4]\n",
      "analysing 211 [3, 'U', 'W', 1]\n",
      "wrong env\n",
      "analysing 211 [3, 'U', 'W', 2]\n",
      "wrong env\n",
      "analysing 211 [3, 'U', 'W', 3]\n",
      "wrong env\n",
      "analysing 211 [3, 'U', 'W', 4]\n",
      "wrong env\n",
      "analysing 211 [3, 'U', 'S', 1]\n",
      "wrong env\n",
      "analysing 211 [3, 'U', 'S', 2]\n",
      "wrong env\n",
      "analysing 211 [3, 'U', 'S', 3]\n",
      "wrong env\n",
      "analysing 211 [3, 'U', 'S', 4]\n",
      "wrong env\n",
      "analysing 211 [3, 'W', 'W', 1]\n",
      "analysing 211 [3, 'W', 'W', 2]\n",
      "analysing 211 [3, 'W', 'W', 3]\n",
      "analysing 211 [3, 'W', 'W', 4]\n",
      "analysing 211 [3, 'W', 'S', 1]\n",
      "analysing 211 [3, 'W', 'S', 2]\n",
      "analysing 211 [3, 'W', 'S', 3]\n",
      "analysing 211 [3, 'W', 'S', 4]\n",
      "analysing 211 [4, 'U', 'W', 1]\n",
      "wrong env\n",
      "analysing 211 [4, 'U', 'W', 2]\n",
      "wrong env\n",
      "analysing 211 [4, 'U', 'W', 3]\n",
      "wrong env\n",
      "analysing 211 [4, 'U', 'W', 4]\n",
      "wrong env\n",
      "analysing 211 [4, 'U', 'S', 1]\n",
      "wrong env\n",
      "analysing 211 [4, 'U', 'S', 2]\n",
      "wrong env\n",
      "analysing 211 [4, 'U', 'S', 3]\n",
      "wrong env\n",
      "analysing 211 [4, 'U', 'S', 4]\n",
      "wrong env\n",
      "analysing 211 [4, 'W', 'W', 1]\n",
      "analysing 211 [4, 'W', 'W', 2]\n",
      "analysing 211 [4, 'W', 'W', 3]\n",
      "analysing 211 [4, 'W', 'W', 4]\n",
      "analysing 211 [4, 'W', 'S', 1]\n",
      "analysing 211 [4, 'W', 'S', 2]\n",
      "analysing 211 [4, 'W', 'S', 3]\n",
      "analysing 211 [4, 'W', 'S', 4]\n",
      "analysing 211 [5, 'U', 'W', 1]\n",
      "wrong env\n",
      "analysing 211 [5, 'U', 'W', 2]\n",
      "wrong env\n",
      "analysing 211 [5, 'U', 'W', 3]\n",
      "wrong env\n",
      "analysing 211 [5, 'U', 'W', 4]\n",
      "wrong env\n",
      "analysing 211 [5, 'U', 'S', 1]\n",
      "wrong env\n",
      "analysing 211 [5, 'U', 'S', 2]\n",
      "wrong env\n",
      "analysing 211 [5, 'U', 'S', 3]\n",
      "wrong env\n",
      "analysing 211 [5, 'U', 'S', 4]\n",
      "wrong env\n",
      "analysing 211 [5, 'W', 'W', 1]\n",
      "analysing 211 [5, 'W', 'W', 2]\n",
      "analysing 211 [5, 'W', 'W', 3]\n",
      "analysing 211 [5, 'W', 'W', 4]\n",
      "analysing 211 [5, 'W', 'S', 1]\n",
      "analysing 211 [5, 'W', 'S', 2]\n",
      "analysing 211 [5, 'W', 'S', 3]\n",
      "analysing 211 [5, 'W', 'S', 4]\n",
      "analysing 211 [6, 'U', 'W', 1]\n",
      "wrong env\n",
      "analysing 211 [6, 'U', 'W', 2]\n",
      "wrong env\n",
      "analysing 211 [6, 'U', 'W', 3]\n",
      "wrong env\n",
      "analysing 211 [6, 'U', 'W', 4]\n",
      "wrong env\n",
      "analysing 211 [6, 'U', 'S', 1]\n",
      "wrong env\n",
      "analysing 211 [6, 'U', 'S', 2]\n",
      "wrong env\n",
      "analysing 211 [6, 'U', 'S', 3]\n",
      "wrong env\n",
      "analysing 211 [6, 'U', 'S', 4]\n",
      "wrong env\n",
      "analysing 211 [6, 'W', 'W', 1]\n",
      "analysing 211 [6, 'W', 'W', 2]\n",
      "analysing 211 [6, 'W', 'W', 3]\n",
      "analysing 211 [6, 'W', 'W', 4]\n",
      "analysing 211 [6, 'W', 'S', 1]\n",
      "analysing 211 [6, 'W', 'S', 2]\n",
      "analysing 211 [6, 'W', 'S', 3]\n",
      "analysing 211 [6, 'W', 'S', 4]\n",
      "analysing 211 [7, 'U', 'W', 1]\n",
      "wrong env\n",
      "analysing 211 [7, 'U', 'W', 2]\n",
      "wrong env\n",
      "analysing 211 [7, 'U', 'W', 3]\n",
      "wrong env\n",
      "analysing 211 [7, 'U', 'W', 4]\n",
      "wrong env\n",
      "analysing 211 [7, 'U', 'S', 1]\n",
      "wrong env\n",
      "analysing 211 [7, 'U', 'S', 2]\n",
      "wrong env\n",
      "analysing 211 [7, 'U', 'S', 3]\n",
      "wrong env\n",
      "analysing 211 [7, 'U', 'S', 4]\n",
      "wrong env\n",
      "analysing 211 [7, 'W', 'W', 1]\n",
      "analysing 211 [7, 'W', 'W', 2]\n",
      "analysing 211 [7, 'W', 'W', 3]\n",
      "analysing 211 [7, 'W', 'W', 4]\n",
      "analysing 211 [7, 'W', 'S', 1]\n",
      "analysing 211 [7, 'W', 'S', 2]\n",
      "analysing 211 [7, 'W', 'S', 3]\n",
      "analysing 211 [7, 'W', 'S', 4]\n",
      "(960, 24)\n"
     ]
    }
   ],
   "source": [
    "def calculate_max_angle(fromX,fromY,fromZ,toX,toY,toZ,r):\n",
    "    length = np.sqrt((toX-fromX)**2 + (toY-fromY)**2 + (toZ-fromZ)**2)\n",
    "    angle_in_rad=np.arcsin(r/length)\n",
    "\n",
    "    return np.rad2deg(angle_in_rad)\n",
    "\n",
    "def calculate_current_angle(headX,headY,headZ,fromX,fromY,fromZ,toX,toY,toZ):\n",
    "    import vg\n",
    "    vector1 = np.array([headX,headY,headZ])\n",
    "    vector2 = np.array([toX-fromX,toY-fromY,toZ-fromZ])\n",
    "    return vg.angle(vector1,vector2)\n",
    "\n",
    "def add_columns(holo):\n",
    "    rs = []\n",
    "    thetas = []\n",
    "    phis = []\n",
    "    for index, row in holo.iterrows():\n",
    "        x = row['TargetPositionX'] - row['HeadPositionX']\n",
    "        y = row['TargetPositionY'] - row['HeadPositionY']\n",
    "        z = row['TargetPositionZ'] - row['HeadPositionZ']\n",
    "        [r, theta, phi] = Analysing_functions.asSpherical([x, z, y])\n",
    "        rs.append(r)\n",
    "        thetas.append(90 - theta)\n",
    "        phis.append(90 - phi)\n",
    "\n",
    "    holo['R'] = rs\n",
    "    holo['Theta'] = thetas\n",
    "    holo['Phi'] = phis\n",
    "    holo['TargetVertical'] = holo.HeadRotationX + holo.Theta\n",
    "    holo['TargetHorizontal'] = holo.HeadRotationY - holo.Phi\n",
    "    for col in ['HeadForwardX', 'HeadForwardY', 'HeadForwardZ']:\n",
    "        holo[str(col) + '_next'] = holo[col].shift(1)\n",
    "    holo['time_interval'] = holo.Timestamp.diff()\n",
    "    holo['angle_speed'] = holo.apply(lambda x: angle_velocity(x.HeadForwardX, x.HeadForwardY, x.HeadForwardZ,\n",
    "                                                                        x.HeadForwardX_next, x.HeadForwardY_next,\n",
    "                                                                        x.HeadForwardZ_next,\n",
    "                                                                        x.time_interval), axis=1)\n",
    "    return holo\n",
    "\n",
    "def angle_velocity(x1, y1, z1, x2, y2, z2, _time):\n",
    "    import vg\n",
    "    # if type(_head_forward2) is not dict: return None\n",
    "    vector1 = np.array([x1, y1, z1])\n",
    "    vector2 = np.array([x2, y2, z2])\n",
    "    return vg.angle(vector1, vector2) / _time\n",
    "\n",
    "subjects = subjects = range(201, 212)\n",
    "poss = ['W','S']\n",
    "envs = ['U','W']\n",
    "targets=range(8)\n",
    "# blocks=range(5)\n",
    "blocks = [1,2,3,4]\n",
    "# subjects= [201]\n",
    "# poss=['W']\n",
    "# envs=['W']\n",
    "# targets=[0]\n",
    "# blocks=[0]\n",
    "output=pd.DataFrame()\n",
    "# TODO : summary save for each subject\n",
    "for subject in subjects:\n",
    "    output=pd.DataFrame()\n",
    "    [imu_file_list, eye_file_list, hololens_file_list] = FileHandling.get_one_subject_files(subject, refined=True)\n",
    "    for target, env, pos, block in itertools.product(targets, envs, poss, blocks):\n",
    "        current_info = [target, env, pos, block]\n",
    "        try:\n",
    "            print('analysing',subject,current_info)\n",
    "\n",
    "            holo = FileHandling.file_as_pandas(FileHandling.get_file_by_info(hololens_file_list, current_info))\n",
    "            holo.Timestamp  = holo.Timestamp - holo.Timestamp[0]\n",
    "            holo = add_columns(holo)\n",
    "            if holo[holo.TargetEntered=='target_'+str(target)].shape[0]<1 :\n",
    "                print(\"Fail in trial\")\n",
    "                continue\n",
    "            start_index = holo[holo.TargetEntered=='target_'+str(target)].index[0]\n",
    "\n",
    "            # Watch after first target-on\n",
    "\n",
    "\n",
    "            holo_after_target_on = holo[holo.index > start_index]\n",
    "            start_time = holo_after_target_on.Timestamp.values[0]\n",
    "            # --- Behavioural statistics ---\n",
    "            # Accuracy : mean distance\n",
    "            accuracy_vertical =-holo_after_target_on.Theta.mean() - holo_after_target_on.HeadRotationX.mean()\n",
    "            accuracy_horizontal = holo_after_target_on.Phi.mean() - holo_after_target_on.HeadRotationY.mean()\n",
    "            # Precision : standard deviation\n",
    "            precision_vertical = (holo_after_target_on.TargetVertical).std()\n",
    "            precision_horizontal = (holo_after_target_on.TargetHorizontal).std()\n",
    "            # print('accuracy:',accuracy_vertical,accuracy_horizontal)\n",
    "            # print('precision:',precision_vertical,precision_horizontal)\n",
    "\n",
    "            # --- Target-wise ---\n",
    "            if env=='W':\n",
    "                r=0.25\n",
    "            elif env=='S':\n",
    "                r=0.25/5\n",
    "            else:\n",
    "                print(\"wrong env\");continue\n",
    "            holo['max_angle_distance'] = holo.apply(lambda x:calculate_max_angle(x['HeadPositionX'],x['HeadPositionY'],x['HeadPositionZ'],\n",
    "                                                                                 x['TargetPositionX'],x['TargetPositionY'],x['TargetPositionZ'],r),axis=1)\n",
    "            holo['current_angle_distance'] = holo.apply(lambda x: calculate_current_angle(x['HeadForwardX'],x['HeadForwardY'],x['HeadForwardZ'],x['HeadPositionX'],x['HeadPositionY'],x['HeadPositionZ'],\n",
    "                                                                                 x['TargetPositionX'],x['TargetPositionY'],x['TargetPositionZ']),axis=1)\n",
    "            holo['targetOn'] = holo.apply(lambda x: x['current_angle_distance'] < x['max_angle_distance'], axis=1)\n",
    "            holo['targetOn_prev'] = holo.targetOn.shift(1)\n",
    "            dwells=list()\n",
    "            temp_dwell=list()\n",
    "            for index,row in holo.iterrows():\n",
    "                if row['targetOn'] == True and row['targetOn_prev']==False:\n",
    "                    temp_dwell=list()\n",
    "                    temp_dwell.append(row)\n",
    "                elif row['targetOn'] == True and row['targetOn_prev']==True:\n",
    "                    temp_dwell.append(row)\n",
    "                elif row['targetOn'] == False and row['targetOn_prev']==True:\n",
    "                    if temp_dwell:\n",
    "                        dwells.append(pd.DataFrame(temp_dwell))\n",
    "                    temp_dwell=list()\n",
    "                if index==holo.index[-1]:\n",
    "                    if temp_dwell :\n",
    "                        dwells.append(pd.DataFrame(temp_dwell))\n",
    "\n",
    "\n",
    "            target_on_count = len(dwells)\n",
    "            if target_on_count > 0:\n",
    "                longest_target_on = max([x.Timestamp.values[-1]-x.Timestamp.values[0] for x in dwells])\n",
    "            else:\n",
    "                print('No target-on')\n",
    "                continue\n",
    "                longest_target_on=-1\n",
    "            mean_speeds=list()\n",
    "            target_in_speeds=list()\n",
    "            target_out_speeds=list()\n",
    "            last_100ms_speeds=list()\n",
    "            for dwell in dwells:\n",
    "                mean_speeds.append(dwell.angle_speed.mean())\n",
    "                target_in_speeds.append(dwell.angle_speed.values[0])\n",
    "                target_out_speeds.append(dwell.angle_speed.values[-1])\n",
    "                dwell_last100 = dwell[dwell.Timestamp > dwell.Timestamp.values[-1]-100/1000]\n",
    "                last_100ms_speeds.append(dwell_last100.angle_speed.mean())\n",
    "            thresholds=[100,200,300,400,500,600,700,800,900,1000,1100,1200,1300,1400,1500]\n",
    "            for threshold in thresholds:\n",
    "                dwell_threshold = threshold\n",
    "                success_dwells=list()\n",
    "                total_duration=0\n",
    "                first_dwell_timestamp = -1;first_success_dwell_timestamp=-1\n",
    "                prior_count=0\n",
    "                for index, dwell in enumerate(dwells):\n",
    "                    if index==0: first_dwell_timestamp=dwell.Timestamp.values[0]\n",
    "                    duration = dwell.Timestamp.values[-1]-dwell.Timestamp.values[0]\n",
    "                    total_duration += duration\n",
    "                    if duration >dwell_threshold/1000:\n",
    "                        if first_success_dwell_timestamp<0:\n",
    "                            prior_count=index\n",
    "                            first_success_dwell_timestamp=dwell.Timestamp.values[0]\n",
    "                        success_dwells.append(dwell)\n",
    "\n",
    "                success_dwell_count = len(success_dwells)\n",
    "                result = dict(\n",
    "                    subject=subject,target=target, env=env, pos=pos, block=block,\n",
    "                    accuracy_vertical=accuracy_vertical,accuracy_horizontal=accuracy_horizontal,\n",
    "                    precision_vertical=precision_vertical,precision_horizontal=precision_horizontal,\n",
    "                    dwell_threshold=dwell_threshold,dwells=dwells,success_dwells=success_dwells,\n",
    "                    target_on_count=target_on_count,success_dwell_count=success_dwell_count,\n",
    "                    total_duration = total_duration,mean_duration = total_duration/target_on_count,\n",
    "                    first_dwell_timestamp = first_dwell_timestamp, first_success_dwell_timestamp=first_success_dwell_timestamp,longest_target_on=longest_target_on,\n",
    "                    mean_speeds=mean_speeds,target_in_speeds=target,target_out_speeds=target_out_speeds,last_100ms_speeds=last_100ms_speeds,\n",
    "                    prior_count=prior_count\n",
    "                )\n",
    "                output=output.append(result,ignore_index=True)\n",
    "        except ValueError as err:\n",
    "            print(err, current_info)\n",
    "    output.to_pickle(\"summary\"+str(subject-200)+\".pkl\")\n",
    "print(output.shape)"
   ],
   "metadata": {
    "collapsed": false,
    "pycharm": {
     "name": "#%%\n"
    }
   }
  },
  {
   "cell_type": "code",
   "execution_count": 14,
   "outputs": [],
   "source": [
    "output.to_pickle(\"summary.pkl\")"
   ],
   "metadata": {
    "collapsed": false,
    "pycharm": {
     "name": "#%%\n"
    }
   }
  },
  {
   "cell_type": "code",
   "execution_count": 36,
   "outputs": [],
   "source": [
    "summary = pd.read_pickle(\"summary3.pkl\")"
   ],
   "metadata": {
    "collapsed": false,
    "pycharm": {
     "name": "#%%\n"
    }
   }
  },
  {
   "cell_type": "code",
   "execution_count": 38,
   "outputs": [
    {
     "name": "stdout",
     "output_type": "stream",
     "text": [
      "accuracy 0.21671975697687462 -> 0.3718668046378664\n",
      "accuracy 0.24754625126936294 -> 0.29653405442552305\n",
      "precision 0.34684949511938873 -> 1.1351656114414914\n",
      "precision 0.4279700597261817 -> 1.1811047204426055\n",
      "accuracy 0.21168598734024577 -> 0.2777855155192628\n",
      "accuracy 0.25415967414250107 -> 0.787518891426928\n",
      "precision 0.22678109681665376 -> 1.14552926816032\n",
      "precision 0.3052993769483194 -> 1.5386333036191204\n",
      "accuracy 0.12295042297206527 -> 0.11989336017777671\n",
      "accuracy 0.20485259771029196 -> 0.15441834718338973\n",
      "precision 0.2593200744659362 -> 0.7740506664539576\n",
      "precision 0.32843438204905384 -> 0.8163679254095753\n",
      "accuracy 0.1332055771661355 -> 0.19907554393220483\n",
      "accuracy 0.23431281626744985 -> 0.3681776658032358\n",
      "precision 0.2722008707817874 -> 1.0474429450878109\n",
      "precision 0.3112500872634455 -> 1.0030770058065834\n",
      "accuracy 0.20256163635386432 -> 0.32957071701152973\n",
      "accuracy 0.21580555533252826 -> 0.5169710188956793\n",
      "precision 0.2103855540197599 -> 0.8541952293001471\n",
      "precision 0.23772909659550562 -> 1.296044802230678\n",
      "accuracy 0.6324262923944967 -> 0.47960266721194883\n",
      "accuracy 0.4943144636712864 -> 0.4708983167594341\n",
      "precision 0.3120235189452588 -> 1.2352854233082713\n",
      "precision 0.31236752570976756 -> 1.3133578252915958\n",
      "accuracy 0.5500721820672545 -> 0.12138532176302252\n",
      "accuracy 0.06605873862894919 -> 0.2206253199466036\n",
      "precision 0.30903460617026496 -> 0.8413922358646294\n",
      "precision 0.20631441136055864 -> 0.9611259463838844\n",
      "accuracy 0.11507166915595428 -> 0.3484333221291484\n",
      "accuracy 0.15010796119929604 -> 0.2522015798118155\n",
      "precision 0.276912394140893 -> 1.2271379286511224\n",
      "precision 0.2853150430646503 -> 1.1787663828960517\n",
      "accuracy 0.29451493304754484 -> 0.3297501720998113\n",
      "accuracy 0.34546780793118964 -> 0.5795579909798567\n",
      "precision 0.3155294109231781 -> 1.313785455188136\n",
      "precision 0.3604012673344563 -> 1.2378425350758886\n",
      "accuracy 0.4836062403205083 -> 0.2637971547593679\n",
      "accuracy 0.5457380010731298 -> 0.38874988035527236\n",
      "precision 0.28955928757097227 -> 0.9343596151090077\n",
      "precision 0.26092071666552524 -> 0.9883884290901498\n",
      "accuracy 0.1337448485475281 -> 0.31042805141585317\n",
      "accuracy 0.1539085038355702 -> 0.28947550671528033\n",
      "precision 0.31764535988982656 -> 0.7501028420715282\n",
      "precision 0.33638783494893165 -> 0.9455581885228068\n"
     ]
    }
   ],
   "source": [
    "behaviour_results=pd.DataFrame()\n",
    "for subject in subjects:\n",
    "    summary = pd.read_pickle(\"summary\"+str(subject-200)+\".pkl\")\n",
    "    standing = summary[(summary.pos=='S') & (summary.dwell_threshold==1500)]\n",
    "    walking =  summary[(summary.pos=='W') & (summary.dwell_threshold==1500)]\n",
    "    acc_H_stand = standing.accuracy_horizontal.abs().mean()\n",
    "    acc_V_stand = standing.accuracy_vertical.abs().mean()\n",
    "    acc_H_walk = walking.accuracy_horizontal.abs().mean()\n",
    "    acc_V_walk = walking.accuracy_vertical.abs().mean()\n",
    "    pre_H_stand = standing.precision_horizontal.mean()\n",
    "    pre_V_stand = standing.precision_vertical.mean()\n",
    "    pre_H_walk = walking.precision_horizontal.mean()\n",
    "    pre_V_walk = walking.precision_vertical.mean()\n",
    "    print('accuracy',acc_H_stand,'->',acc_H_walk)\n",
    "    print('accuracy',acc_V_stand,'->',acc_V_walk)\n",
    "    print('precision',pre_H_stand,'->',pre_H_walk)\n",
    "    print('precision',pre_V_stand,'->',pre_V_walk)\n",
    "    result = dict(\n",
    "        subject=subject,\n",
    "        stand_accuracy_horizontal = acc_H_stand,\n",
    "        stand_accuracy_vertical = acc_V_stand,\n",
    "        walk_accuracy_horizontal = acc_H_walk,\n",
    "        walk_accuracy_vertical = acc_V_walk,\n",
    "        stand_precision_horizontal = pre_H_stand,\n",
    "        stand_precision_vertical = pre_V_stand,\n",
    "        walk_precision_horizontal = pre_H_walk,\n",
    "        walk_precision_vertical = pre_V_walk,\n",
    "    )\n",
    "    behaviour_results = behaviour_results.append(result,ignore_index=True)"
   ],
   "metadata": {
    "collapsed": false,
    "pycharm": {
     "name": "#%%\n"
    }
   }
  },
  {
   "cell_type": "code",
   "execution_count": 46,
   "outputs": [
    {
     "data": {
      "application/vnd.plotly.v1+json": {
       "config": {
        "plotlyServerURL": "https://plot.ly"
       },
       "data": [
        {
         "error_y": {
          "array": [
           0.1866165909084881,
           0.1450496878547607
          ],
          "type": "data"
         },
         "name": "Standing",
         "type": "bar",
         "x": [
          "accuracy_H",
          "accuracy_V"
         ],
         "y": [
          0.2815054133038611,
          0.26475203373286865
         ]
        },
        {
         "error_y": {
          "array": [
           0.1076870972457111,
           0.1841198606200694
          ],
          "type": "data"
         },
         "name": "Walking",
         "type": "bar",
         "x": [
          "accuracy_H",
          "accuracy_V"
         ],
         "y": [
          0.28650805733252666,
          0.39319350657300167
         ]
        }
       ],
       "layout": {
        "barmode": "group",
        "template": {
         "data": {
          "bar": [
           {
            "error_x": {
             "color": "#2a3f5f"
            },
            "error_y": {
             "color": "#2a3f5f"
            },
            "marker": {
             "line": {
              "color": "#E5ECF6",
              "width": 0.5
             }
            },
            "type": "bar"
           }
          ],
          "barpolar": [
           {
            "marker": {
             "line": {
              "color": "#E5ECF6",
              "width": 0.5
             }
            },
            "type": "barpolar"
           }
          ],
          "carpet": [
           {
            "aaxis": {
             "endlinecolor": "#2a3f5f",
             "gridcolor": "white",
             "linecolor": "white",
             "minorgridcolor": "white",
             "startlinecolor": "#2a3f5f"
            },
            "baxis": {
             "endlinecolor": "#2a3f5f",
             "gridcolor": "white",
             "linecolor": "white",
             "minorgridcolor": "white",
             "startlinecolor": "#2a3f5f"
            },
            "type": "carpet"
           }
          ],
          "choropleth": [
           {
            "colorbar": {
             "outlinewidth": 0,
             "ticks": ""
            },
            "type": "choropleth"
           }
          ],
          "contour": [
           {
            "colorbar": {
             "outlinewidth": 0,
             "ticks": ""
            },
            "colorscale": [
             [
              0.0,
              "#0d0887"
             ],
             [
              0.1111111111111111,
              "#46039f"
             ],
             [
              0.2222222222222222,
              "#7201a8"
             ],
             [
              0.3333333333333333,
              "#9c179e"
             ],
             [
              0.4444444444444444,
              "#bd3786"
             ],
             [
              0.5555555555555556,
              "#d8576b"
             ],
             [
              0.6666666666666666,
              "#ed7953"
             ],
             [
              0.7777777777777778,
              "#fb9f3a"
             ],
             [
              0.8888888888888888,
              "#fdca26"
             ],
             [
              1.0,
              "#f0f921"
             ]
            ],
            "type": "contour"
           }
          ],
          "contourcarpet": [
           {
            "colorbar": {
             "outlinewidth": 0,
             "ticks": ""
            },
            "type": "contourcarpet"
           }
          ],
          "heatmap": [
           {
            "colorbar": {
             "outlinewidth": 0,
             "ticks": ""
            },
            "colorscale": [
             [
              0.0,
              "#0d0887"
             ],
             [
              0.1111111111111111,
              "#46039f"
             ],
             [
              0.2222222222222222,
              "#7201a8"
             ],
             [
              0.3333333333333333,
              "#9c179e"
             ],
             [
              0.4444444444444444,
              "#bd3786"
             ],
             [
              0.5555555555555556,
              "#d8576b"
             ],
             [
              0.6666666666666666,
              "#ed7953"
             ],
             [
              0.7777777777777778,
              "#fb9f3a"
             ],
             [
              0.8888888888888888,
              "#fdca26"
             ],
             [
              1.0,
              "#f0f921"
             ]
            ],
            "type": "heatmap"
           }
          ],
          "heatmapgl": [
           {
            "colorbar": {
             "outlinewidth": 0,
             "ticks": ""
            },
            "colorscale": [
             [
              0.0,
              "#0d0887"
             ],
             [
              0.1111111111111111,
              "#46039f"
             ],
             [
              0.2222222222222222,
              "#7201a8"
             ],
             [
              0.3333333333333333,
              "#9c179e"
             ],
             [
              0.4444444444444444,
              "#bd3786"
             ],
             [
              0.5555555555555556,
              "#d8576b"
             ],
             [
              0.6666666666666666,
              "#ed7953"
             ],
             [
              0.7777777777777778,
              "#fb9f3a"
             ],
             [
              0.8888888888888888,
              "#fdca26"
             ],
             [
              1.0,
              "#f0f921"
             ]
            ],
            "type": "heatmapgl"
           }
          ],
          "histogram": [
           {
            "marker": {
             "colorbar": {
              "outlinewidth": 0,
              "ticks": ""
             }
            },
            "type": "histogram"
           }
          ],
          "histogram2d": [
           {
            "colorbar": {
             "outlinewidth": 0,
             "ticks": ""
            },
            "colorscale": [
             [
              0.0,
              "#0d0887"
             ],
             [
              0.1111111111111111,
              "#46039f"
             ],
             [
              0.2222222222222222,
              "#7201a8"
             ],
             [
              0.3333333333333333,
              "#9c179e"
             ],
             [
              0.4444444444444444,
              "#bd3786"
             ],
             [
              0.5555555555555556,
              "#d8576b"
             ],
             [
              0.6666666666666666,
              "#ed7953"
             ],
             [
              0.7777777777777778,
              "#fb9f3a"
             ],
             [
              0.8888888888888888,
              "#fdca26"
             ],
             [
              1.0,
              "#f0f921"
             ]
            ],
            "type": "histogram2d"
           }
          ],
          "histogram2dcontour": [
           {
            "colorbar": {
             "outlinewidth": 0,
             "ticks": ""
            },
            "colorscale": [
             [
              0.0,
              "#0d0887"
             ],
             [
              0.1111111111111111,
              "#46039f"
             ],
             [
              0.2222222222222222,
              "#7201a8"
             ],
             [
              0.3333333333333333,
              "#9c179e"
             ],
             [
              0.4444444444444444,
              "#bd3786"
             ],
             [
              0.5555555555555556,
              "#d8576b"
             ],
             [
              0.6666666666666666,
              "#ed7953"
             ],
             [
              0.7777777777777778,
              "#fb9f3a"
             ],
             [
              0.8888888888888888,
              "#fdca26"
             ],
             [
              1.0,
              "#f0f921"
             ]
            ],
            "type": "histogram2dcontour"
           }
          ],
          "mesh3d": [
           {
            "colorbar": {
             "outlinewidth": 0,
             "ticks": ""
            },
            "type": "mesh3d"
           }
          ],
          "parcoords": [
           {
            "line": {
             "colorbar": {
              "outlinewidth": 0,
              "ticks": ""
             }
            },
            "type": "parcoords"
           }
          ],
          "pie": [
           {
            "automargin": true,
            "type": "pie"
           }
          ],
          "scatter": [
           {
            "marker": {
             "colorbar": {
              "outlinewidth": 0,
              "ticks": ""
             }
            },
            "type": "scatter"
           }
          ],
          "scatter3d": [
           {
            "line": {
             "colorbar": {
              "outlinewidth": 0,
              "ticks": ""
             }
            },
            "marker": {
             "colorbar": {
              "outlinewidth": 0,
              "ticks": ""
             }
            },
            "type": "scatter3d"
           }
          ],
          "scattercarpet": [
           {
            "marker": {
             "colorbar": {
              "outlinewidth": 0,
              "ticks": ""
             }
            },
            "type": "scattercarpet"
           }
          ],
          "scattergeo": [
           {
            "marker": {
             "colorbar": {
              "outlinewidth": 0,
              "ticks": ""
             }
            },
            "type": "scattergeo"
           }
          ],
          "scattergl": [
           {
            "marker": {
             "colorbar": {
              "outlinewidth": 0,
              "ticks": ""
             }
            },
            "type": "scattergl"
           }
          ],
          "scattermapbox": [
           {
            "marker": {
             "colorbar": {
              "outlinewidth": 0,
              "ticks": ""
             }
            },
            "type": "scattermapbox"
           }
          ],
          "scatterpolar": [
           {
            "marker": {
             "colorbar": {
              "outlinewidth": 0,
              "ticks": ""
             }
            },
            "type": "scatterpolar"
           }
          ],
          "scatterpolargl": [
           {
            "marker": {
             "colorbar": {
              "outlinewidth": 0,
              "ticks": ""
             }
            },
            "type": "scatterpolargl"
           }
          ],
          "scatterternary": [
           {
            "marker": {
             "colorbar": {
              "outlinewidth": 0,
              "ticks": ""
             }
            },
            "type": "scatterternary"
           }
          ],
          "surface": [
           {
            "colorbar": {
             "outlinewidth": 0,
             "ticks": ""
            },
            "colorscale": [
             [
              0.0,
              "#0d0887"
             ],
             [
              0.1111111111111111,
              "#46039f"
             ],
             [
              0.2222222222222222,
              "#7201a8"
             ],
             [
              0.3333333333333333,
              "#9c179e"
             ],
             [
              0.4444444444444444,
              "#bd3786"
             ],
             [
              0.5555555555555556,
              "#d8576b"
             ],
             [
              0.6666666666666666,
              "#ed7953"
             ],
             [
              0.7777777777777778,
              "#fb9f3a"
             ],
             [
              0.8888888888888888,
              "#fdca26"
             ],
             [
              1.0,
              "#f0f921"
             ]
            ],
            "type": "surface"
           }
          ],
          "table": [
           {
            "cells": {
             "fill": {
              "color": "#EBF0F8"
             },
             "line": {
              "color": "white"
             }
            },
            "header": {
             "fill": {
              "color": "#C8D4E3"
             },
             "line": {
              "color": "white"
             }
            },
            "type": "table"
           }
          ]
         },
         "layout": {
          "annotationdefaults": {
           "arrowcolor": "#2a3f5f",
           "arrowhead": 0,
           "arrowwidth": 1
          },
          "coloraxis": {
           "colorbar": {
            "outlinewidth": 0,
            "ticks": ""
           }
          },
          "colorscale": {
           "diverging": [
            [
             0,
             "#8e0152"
            ],
            [
             0.1,
             "#c51b7d"
            ],
            [
             0.2,
             "#de77ae"
            ],
            [
             0.3,
             "#f1b6da"
            ],
            [
             0.4,
             "#fde0ef"
            ],
            [
             0.5,
             "#f7f7f7"
            ],
            [
             0.6,
             "#e6f5d0"
            ],
            [
             0.7,
             "#b8e186"
            ],
            [
             0.8,
             "#7fbc41"
            ],
            [
             0.9,
             "#4d9221"
            ],
            [
             1,
             "#276419"
            ]
           ],
           "sequential": [
            [
             0.0,
             "#0d0887"
            ],
            [
             0.1111111111111111,
             "#46039f"
            ],
            [
             0.2222222222222222,
             "#7201a8"
            ],
            [
             0.3333333333333333,
             "#9c179e"
            ],
            [
             0.4444444444444444,
             "#bd3786"
            ],
            [
             0.5555555555555556,
             "#d8576b"
            ],
            [
             0.6666666666666666,
             "#ed7953"
            ],
            [
             0.7777777777777778,
             "#fb9f3a"
            ],
            [
             0.8888888888888888,
             "#fdca26"
            ],
            [
             1.0,
             "#f0f921"
            ]
           ],
           "sequentialminus": [
            [
             0.0,
             "#0d0887"
            ],
            [
             0.1111111111111111,
             "#46039f"
            ],
            [
             0.2222222222222222,
             "#7201a8"
            ],
            [
             0.3333333333333333,
             "#9c179e"
            ],
            [
             0.4444444444444444,
             "#bd3786"
            ],
            [
             0.5555555555555556,
             "#d8576b"
            ],
            [
             0.6666666666666666,
             "#ed7953"
            ],
            [
             0.7777777777777778,
             "#fb9f3a"
            ],
            [
             0.8888888888888888,
             "#fdca26"
            ],
            [
             1.0,
             "#f0f921"
            ]
           ]
          },
          "colorway": [
           "#636efa",
           "#EF553B",
           "#00cc96",
           "#ab63fa",
           "#FFA15A",
           "#19d3f3",
           "#FF6692",
           "#B6E880",
           "#FF97FF",
           "#FECB52"
          ],
          "font": {
           "color": "#2a3f5f"
          },
          "geo": {
           "bgcolor": "white",
           "lakecolor": "white",
           "landcolor": "#E5ECF6",
           "showlakes": true,
           "showland": true,
           "subunitcolor": "white"
          },
          "hoverlabel": {
           "align": "left"
          },
          "hovermode": "closest",
          "mapbox": {
           "style": "light"
          },
          "paper_bgcolor": "white",
          "plot_bgcolor": "#E5ECF6",
          "polar": {
           "angularaxis": {
            "gridcolor": "white",
            "linecolor": "white",
            "ticks": ""
           },
           "bgcolor": "#E5ECF6",
           "radialaxis": {
            "gridcolor": "white",
            "linecolor": "white",
            "ticks": ""
           }
          },
          "scene": {
           "xaxis": {
            "backgroundcolor": "#E5ECF6",
            "gridcolor": "white",
            "gridwidth": 2,
            "linecolor": "white",
            "showbackground": true,
            "ticks": "",
            "zerolinecolor": "white"
           },
           "yaxis": {
            "backgroundcolor": "#E5ECF6",
            "gridcolor": "white",
            "gridwidth": 2,
            "linecolor": "white",
            "showbackground": true,
            "ticks": "",
            "zerolinecolor": "white"
           },
           "zaxis": {
            "backgroundcolor": "#E5ECF6",
            "gridcolor": "white",
            "gridwidth": 2,
            "linecolor": "white",
            "showbackground": true,
            "ticks": "",
            "zerolinecolor": "white"
           }
          },
          "shapedefaults": {
           "line": {
            "color": "#2a3f5f"
           }
          },
          "ternary": {
           "aaxis": {
            "gridcolor": "white",
            "linecolor": "white",
            "ticks": ""
           },
           "baxis": {
            "gridcolor": "white",
            "linecolor": "white",
            "ticks": ""
           },
           "bgcolor": "#E5ECF6",
           "caxis": {
            "gridcolor": "white",
            "linecolor": "white",
            "ticks": ""
           }
          },
          "title": {
           "x": 0.05
          },
          "xaxis": {
           "automargin": true,
           "gridcolor": "white",
           "linecolor": "white",
           "ticks": "",
           "title": {
            "standoff": 15
           },
           "zerolinecolor": "white",
           "zerolinewidth": 2
          },
          "yaxis": {
           "automargin": true,
           "gridcolor": "white",
           "linecolor": "white",
           "ticks": "",
           "title": {
            "standoff": 15
           },
           "zerolinecolor": "white",
           "zerolinewidth": 2
          }
         }
        }
       }
      },
      "text/html": "<div>\n        \n        \n            <div id=\"3f61b386-d047-447d-ab58-908751e9455c\" class=\"plotly-graph-div\" style=\"height:525px; width:100%;\"></div>\n            <script type=\"text/javascript\">\n                require([\"plotly\"], function(Plotly) {\n                    window.PLOTLYENV=window.PLOTLYENV || {};\n                    \n                if (document.getElementById(\"3f61b386-d047-447d-ab58-908751e9455c\")) {\n                    Plotly.newPlot(\n                        '3f61b386-d047-447d-ab58-908751e9455c',\n                        [{\"error_y\": {\"array\": [0.1866165909084881, 0.1450496878547607], \"type\": \"data\"}, \"name\": \"Standing\", \"type\": \"bar\", \"x\": [\"accuracy_H\", \"accuracy_V\"], \"y\": [0.2815054133038611, 0.26475203373286865]}, {\"error_y\": {\"array\": [0.1076870972457111, 0.1841198606200694], \"type\": \"data\"}, \"name\": \"Walking\", \"type\": \"bar\", \"x\": [\"accuracy_H\", \"accuracy_V\"], \"y\": [0.28650805733252666, 0.39319350657300167]}],\n                        {\"barmode\": \"group\", \"template\": {\"data\": {\"bar\": [{\"error_x\": {\"color\": \"#2a3f5f\"}, \"error_y\": {\"color\": \"#2a3f5f\"}, \"marker\": {\"line\": {\"color\": \"#E5ECF6\", \"width\": 0.5}}, \"type\": \"bar\"}], \"barpolar\": [{\"marker\": {\"line\": {\"color\": \"#E5ECF6\", \"width\": 0.5}}, \"type\": \"barpolar\"}], \"carpet\": [{\"aaxis\": {\"endlinecolor\": \"#2a3f5f\", \"gridcolor\": \"white\", \"linecolor\": \"white\", \"minorgridcolor\": \"white\", \"startlinecolor\": \"#2a3f5f\"}, \"baxis\": {\"endlinecolor\": \"#2a3f5f\", \"gridcolor\": \"white\", \"linecolor\": \"white\", \"minorgridcolor\": \"white\", \"startlinecolor\": \"#2a3f5f\"}, \"type\": \"carpet\"}], \"choropleth\": [{\"colorbar\": {\"outlinewidth\": 0, \"ticks\": \"\"}, \"type\": \"choropleth\"}], \"contour\": [{\"colorbar\": {\"outlinewidth\": 0, \"ticks\": \"\"}, \"colorscale\": [[0.0, \"#0d0887\"], [0.1111111111111111, \"#46039f\"], [0.2222222222222222, \"#7201a8\"], [0.3333333333333333, \"#9c179e\"], [0.4444444444444444, \"#bd3786\"], [0.5555555555555556, \"#d8576b\"], [0.6666666666666666, \"#ed7953\"], [0.7777777777777778, \"#fb9f3a\"], [0.8888888888888888, \"#fdca26\"], [1.0, \"#f0f921\"]], \"type\": \"contour\"}], \"contourcarpet\": [{\"colorbar\": {\"outlinewidth\": 0, \"ticks\": \"\"}, \"type\": \"contourcarpet\"}], \"heatmap\": [{\"colorbar\": {\"outlinewidth\": 0, \"ticks\": \"\"}, \"colorscale\": [[0.0, \"#0d0887\"], [0.1111111111111111, \"#46039f\"], [0.2222222222222222, \"#7201a8\"], [0.3333333333333333, \"#9c179e\"], [0.4444444444444444, \"#bd3786\"], [0.5555555555555556, \"#d8576b\"], [0.6666666666666666, \"#ed7953\"], [0.7777777777777778, \"#fb9f3a\"], [0.8888888888888888, \"#fdca26\"], [1.0, \"#f0f921\"]], \"type\": \"heatmap\"}], \"heatmapgl\": [{\"colorbar\": {\"outlinewidth\": 0, \"ticks\": \"\"}, \"colorscale\": [[0.0, \"#0d0887\"], [0.1111111111111111, \"#46039f\"], [0.2222222222222222, \"#7201a8\"], [0.3333333333333333, \"#9c179e\"], [0.4444444444444444, \"#bd3786\"], [0.5555555555555556, \"#d8576b\"], [0.6666666666666666, \"#ed7953\"], [0.7777777777777778, \"#fb9f3a\"], [0.8888888888888888, \"#fdca26\"], [1.0, \"#f0f921\"]], \"type\": \"heatmapgl\"}], \"histogram\": [{\"marker\": {\"colorbar\": {\"outlinewidth\": 0, \"ticks\": \"\"}}, \"type\": \"histogram\"}], \"histogram2d\": [{\"colorbar\": {\"outlinewidth\": 0, \"ticks\": \"\"}, \"colorscale\": [[0.0, \"#0d0887\"], [0.1111111111111111, \"#46039f\"], [0.2222222222222222, \"#7201a8\"], [0.3333333333333333, \"#9c179e\"], [0.4444444444444444, \"#bd3786\"], [0.5555555555555556, \"#d8576b\"], [0.6666666666666666, \"#ed7953\"], [0.7777777777777778, \"#fb9f3a\"], [0.8888888888888888, \"#fdca26\"], [1.0, \"#f0f921\"]], \"type\": \"histogram2d\"}], \"histogram2dcontour\": [{\"colorbar\": {\"outlinewidth\": 0, \"ticks\": \"\"}, \"colorscale\": [[0.0, \"#0d0887\"], [0.1111111111111111, \"#46039f\"], [0.2222222222222222, \"#7201a8\"], [0.3333333333333333, \"#9c179e\"], [0.4444444444444444, \"#bd3786\"], [0.5555555555555556, \"#d8576b\"], [0.6666666666666666, \"#ed7953\"], [0.7777777777777778, \"#fb9f3a\"], [0.8888888888888888, \"#fdca26\"], [1.0, \"#f0f921\"]], \"type\": \"histogram2dcontour\"}], \"mesh3d\": [{\"colorbar\": {\"outlinewidth\": 0, \"ticks\": \"\"}, \"type\": \"mesh3d\"}], \"parcoords\": [{\"line\": {\"colorbar\": {\"outlinewidth\": 0, \"ticks\": \"\"}}, \"type\": \"parcoords\"}], \"pie\": [{\"automargin\": true, \"type\": \"pie\"}], \"scatter\": [{\"marker\": {\"colorbar\": {\"outlinewidth\": 0, \"ticks\": \"\"}}, \"type\": \"scatter\"}], \"scatter3d\": [{\"line\": {\"colorbar\": {\"outlinewidth\": 0, \"ticks\": \"\"}}, \"marker\": {\"colorbar\": {\"outlinewidth\": 0, \"ticks\": \"\"}}, \"type\": \"scatter3d\"}], \"scattercarpet\": [{\"marker\": {\"colorbar\": {\"outlinewidth\": 0, \"ticks\": \"\"}}, \"type\": \"scattercarpet\"}], \"scattergeo\": [{\"marker\": {\"colorbar\": {\"outlinewidth\": 0, \"ticks\": \"\"}}, \"type\": \"scattergeo\"}], \"scattergl\": [{\"marker\": {\"colorbar\": {\"outlinewidth\": 0, \"ticks\": \"\"}}, \"type\": \"scattergl\"}], \"scattermapbox\": [{\"marker\": {\"colorbar\": {\"outlinewidth\": 0, \"ticks\": \"\"}}, \"type\": \"scattermapbox\"}], \"scatterpolar\": [{\"marker\": {\"colorbar\": {\"outlinewidth\": 0, \"ticks\": \"\"}}, \"type\": \"scatterpolar\"}], \"scatterpolargl\": [{\"marker\": {\"colorbar\": {\"outlinewidth\": 0, \"ticks\": \"\"}}, \"type\": \"scatterpolargl\"}], \"scatterternary\": [{\"marker\": {\"colorbar\": {\"outlinewidth\": 0, \"ticks\": \"\"}}, \"type\": \"scatterternary\"}], \"surface\": [{\"colorbar\": {\"outlinewidth\": 0, \"ticks\": \"\"}, \"colorscale\": [[0.0, \"#0d0887\"], [0.1111111111111111, \"#46039f\"], [0.2222222222222222, \"#7201a8\"], [0.3333333333333333, \"#9c179e\"], [0.4444444444444444, \"#bd3786\"], [0.5555555555555556, \"#d8576b\"], [0.6666666666666666, \"#ed7953\"], [0.7777777777777778, \"#fb9f3a\"], [0.8888888888888888, \"#fdca26\"], [1.0, \"#f0f921\"]], \"type\": \"surface\"}], \"table\": [{\"cells\": {\"fill\": {\"color\": \"#EBF0F8\"}, \"line\": {\"color\": \"white\"}}, \"header\": {\"fill\": {\"color\": \"#C8D4E3\"}, \"line\": {\"color\": \"white\"}}, \"type\": \"table\"}]}, \"layout\": {\"annotationdefaults\": {\"arrowcolor\": \"#2a3f5f\", \"arrowhead\": 0, \"arrowwidth\": 1}, \"coloraxis\": {\"colorbar\": {\"outlinewidth\": 0, \"ticks\": \"\"}}, \"colorscale\": {\"diverging\": [[0, \"#8e0152\"], [0.1, \"#c51b7d\"], [0.2, \"#de77ae\"], [0.3, \"#f1b6da\"], [0.4, \"#fde0ef\"], [0.5, \"#f7f7f7\"], [0.6, \"#e6f5d0\"], [0.7, \"#b8e186\"], [0.8, \"#7fbc41\"], [0.9, \"#4d9221\"], [1, \"#276419\"]], \"sequential\": [[0.0, \"#0d0887\"], [0.1111111111111111, \"#46039f\"], [0.2222222222222222, \"#7201a8\"], [0.3333333333333333, \"#9c179e\"], [0.4444444444444444, \"#bd3786\"], [0.5555555555555556, \"#d8576b\"], [0.6666666666666666, \"#ed7953\"], [0.7777777777777778, \"#fb9f3a\"], [0.8888888888888888, \"#fdca26\"], [1.0, \"#f0f921\"]], \"sequentialminus\": [[0.0, \"#0d0887\"], [0.1111111111111111, \"#46039f\"], [0.2222222222222222, \"#7201a8\"], [0.3333333333333333, \"#9c179e\"], [0.4444444444444444, \"#bd3786\"], [0.5555555555555556, \"#d8576b\"], [0.6666666666666666, \"#ed7953\"], [0.7777777777777778, \"#fb9f3a\"], [0.8888888888888888, \"#fdca26\"], [1.0, \"#f0f921\"]]}, \"colorway\": [\"#636efa\", \"#EF553B\", \"#00cc96\", \"#ab63fa\", \"#FFA15A\", \"#19d3f3\", \"#FF6692\", \"#B6E880\", \"#FF97FF\", \"#FECB52\"], \"font\": {\"color\": \"#2a3f5f\"}, \"geo\": {\"bgcolor\": \"white\", \"lakecolor\": \"white\", \"landcolor\": \"#E5ECF6\", \"showlakes\": true, \"showland\": true, \"subunitcolor\": \"white\"}, \"hoverlabel\": {\"align\": \"left\"}, \"hovermode\": \"closest\", \"mapbox\": {\"style\": \"light\"}, \"paper_bgcolor\": \"white\", \"plot_bgcolor\": \"#E5ECF6\", \"polar\": {\"angularaxis\": {\"gridcolor\": \"white\", \"linecolor\": \"white\", \"ticks\": \"\"}, \"bgcolor\": \"#E5ECF6\", \"radialaxis\": {\"gridcolor\": \"white\", \"linecolor\": \"white\", \"ticks\": \"\"}}, \"scene\": {\"xaxis\": {\"backgroundcolor\": \"#E5ECF6\", \"gridcolor\": \"white\", \"gridwidth\": 2, \"linecolor\": \"white\", \"showbackground\": true, \"ticks\": \"\", \"zerolinecolor\": \"white\"}, \"yaxis\": {\"backgroundcolor\": \"#E5ECF6\", \"gridcolor\": \"white\", \"gridwidth\": 2, \"linecolor\": \"white\", \"showbackground\": true, \"ticks\": \"\", \"zerolinecolor\": \"white\"}, \"zaxis\": {\"backgroundcolor\": \"#E5ECF6\", \"gridcolor\": \"white\", \"gridwidth\": 2, \"linecolor\": \"white\", \"showbackground\": true, \"ticks\": \"\", \"zerolinecolor\": \"white\"}}, \"shapedefaults\": {\"line\": {\"color\": \"#2a3f5f\"}}, \"ternary\": {\"aaxis\": {\"gridcolor\": \"white\", \"linecolor\": \"white\", \"ticks\": \"\"}, \"baxis\": {\"gridcolor\": \"white\", \"linecolor\": \"white\", \"ticks\": \"\"}, \"bgcolor\": \"#E5ECF6\", \"caxis\": {\"gridcolor\": \"white\", \"linecolor\": \"white\", \"ticks\": \"\"}}, \"title\": {\"x\": 0.05}, \"xaxis\": {\"automargin\": true, \"gridcolor\": \"white\", \"linecolor\": \"white\", \"ticks\": \"\", \"title\": {\"standoff\": 15}, \"zerolinecolor\": \"white\", \"zerolinewidth\": 2}, \"yaxis\": {\"automargin\": true, \"gridcolor\": \"white\", \"linecolor\": \"white\", \"ticks\": \"\", \"title\": {\"standoff\": 15}, \"zerolinecolor\": \"white\", \"zerolinewidth\": 2}}}},\n                        {\"responsive\": true}\n                    ).then(function(){\n                            \nvar gd = document.getElementById('3f61b386-d047-447d-ab58-908751e9455c');\nvar x = new MutationObserver(function (mutations, observer) {{\n        var display = window.getComputedStyle(gd).display;\n        if (!display || display === 'none') {{\n            console.log([gd, 'removed!']);\n            Plotly.purge(gd);\n            observer.disconnect();\n        }}\n}});\n\n// Listen for the removal of the full notebook cells\nvar notebookContainer = gd.closest('#notebook-container');\nif (notebookContainer) {{\n    x.observe(notebookContainer, {childList: true});\n}}\n\n// Listen for the clearing of the current output cell\nvar outputEl = gd.closest('.output');\nif (outputEl) {{\n    x.observe(outputEl, {childList: true});\n}}\n\n                        })\n                };\n                });\n            </script>\n        </div>"
     },
     "metadata": {},
     "output_type": "display_data"
    },
    {
     "data": {
      "application/vnd.plotly.v1+json": {
       "config": {
        "plotlyServerURL": "https://plot.ly"
       },
       "data": [
        {
         "error_y": {
          "array": [
           0.04122759537552148,
           0.060320763693247924
          ],
          "type": "data"
         },
         "name": "Standing",
         "type": "bar",
         "x": [
          "precision_H",
          "precision_V"
         ],
         "y": [
          0.28511287898581084,
          0.3065808910605814
         ]
        },
        {
         "error_y": {
          "array": [
           0.20131196183190564,
           0.2101842806442804
          ],
          "type": "data"
         },
         "name": "Walking",
         "type": "bar",
         "x": [
          "precision_H",
          "precision_V"
         ],
         "y": [
          1.0234952018760384,
          1.1327515513426307
         ]
        }
       ],
       "layout": {
        "barmode": "group",
        "template": {
         "data": {
          "bar": [
           {
            "error_x": {
             "color": "#2a3f5f"
            },
            "error_y": {
             "color": "#2a3f5f"
            },
            "marker": {
             "line": {
              "color": "#E5ECF6",
              "width": 0.5
             }
            },
            "type": "bar"
           }
          ],
          "barpolar": [
           {
            "marker": {
             "line": {
              "color": "#E5ECF6",
              "width": 0.5
             }
            },
            "type": "barpolar"
           }
          ],
          "carpet": [
           {
            "aaxis": {
             "endlinecolor": "#2a3f5f",
             "gridcolor": "white",
             "linecolor": "white",
             "minorgridcolor": "white",
             "startlinecolor": "#2a3f5f"
            },
            "baxis": {
             "endlinecolor": "#2a3f5f",
             "gridcolor": "white",
             "linecolor": "white",
             "minorgridcolor": "white",
             "startlinecolor": "#2a3f5f"
            },
            "type": "carpet"
           }
          ],
          "choropleth": [
           {
            "colorbar": {
             "outlinewidth": 0,
             "ticks": ""
            },
            "type": "choropleth"
           }
          ],
          "contour": [
           {
            "colorbar": {
             "outlinewidth": 0,
             "ticks": ""
            },
            "colorscale": [
             [
              0.0,
              "#0d0887"
             ],
             [
              0.1111111111111111,
              "#46039f"
             ],
             [
              0.2222222222222222,
              "#7201a8"
             ],
             [
              0.3333333333333333,
              "#9c179e"
             ],
             [
              0.4444444444444444,
              "#bd3786"
             ],
             [
              0.5555555555555556,
              "#d8576b"
             ],
             [
              0.6666666666666666,
              "#ed7953"
             ],
             [
              0.7777777777777778,
              "#fb9f3a"
             ],
             [
              0.8888888888888888,
              "#fdca26"
             ],
             [
              1.0,
              "#f0f921"
             ]
            ],
            "type": "contour"
           }
          ],
          "contourcarpet": [
           {
            "colorbar": {
             "outlinewidth": 0,
             "ticks": ""
            },
            "type": "contourcarpet"
           }
          ],
          "heatmap": [
           {
            "colorbar": {
             "outlinewidth": 0,
             "ticks": ""
            },
            "colorscale": [
             [
              0.0,
              "#0d0887"
             ],
             [
              0.1111111111111111,
              "#46039f"
             ],
             [
              0.2222222222222222,
              "#7201a8"
             ],
             [
              0.3333333333333333,
              "#9c179e"
             ],
             [
              0.4444444444444444,
              "#bd3786"
             ],
             [
              0.5555555555555556,
              "#d8576b"
             ],
             [
              0.6666666666666666,
              "#ed7953"
             ],
             [
              0.7777777777777778,
              "#fb9f3a"
             ],
             [
              0.8888888888888888,
              "#fdca26"
             ],
             [
              1.0,
              "#f0f921"
             ]
            ],
            "type": "heatmap"
           }
          ],
          "heatmapgl": [
           {
            "colorbar": {
             "outlinewidth": 0,
             "ticks": ""
            },
            "colorscale": [
             [
              0.0,
              "#0d0887"
             ],
             [
              0.1111111111111111,
              "#46039f"
             ],
             [
              0.2222222222222222,
              "#7201a8"
             ],
             [
              0.3333333333333333,
              "#9c179e"
             ],
             [
              0.4444444444444444,
              "#bd3786"
             ],
             [
              0.5555555555555556,
              "#d8576b"
             ],
             [
              0.6666666666666666,
              "#ed7953"
             ],
             [
              0.7777777777777778,
              "#fb9f3a"
             ],
             [
              0.8888888888888888,
              "#fdca26"
             ],
             [
              1.0,
              "#f0f921"
             ]
            ],
            "type": "heatmapgl"
           }
          ],
          "histogram": [
           {
            "marker": {
             "colorbar": {
              "outlinewidth": 0,
              "ticks": ""
             }
            },
            "type": "histogram"
           }
          ],
          "histogram2d": [
           {
            "colorbar": {
             "outlinewidth": 0,
             "ticks": ""
            },
            "colorscale": [
             [
              0.0,
              "#0d0887"
             ],
             [
              0.1111111111111111,
              "#46039f"
             ],
             [
              0.2222222222222222,
              "#7201a8"
             ],
             [
              0.3333333333333333,
              "#9c179e"
             ],
             [
              0.4444444444444444,
              "#bd3786"
             ],
             [
              0.5555555555555556,
              "#d8576b"
             ],
             [
              0.6666666666666666,
              "#ed7953"
             ],
             [
              0.7777777777777778,
              "#fb9f3a"
             ],
             [
              0.8888888888888888,
              "#fdca26"
             ],
             [
              1.0,
              "#f0f921"
             ]
            ],
            "type": "histogram2d"
           }
          ],
          "histogram2dcontour": [
           {
            "colorbar": {
             "outlinewidth": 0,
             "ticks": ""
            },
            "colorscale": [
             [
              0.0,
              "#0d0887"
             ],
             [
              0.1111111111111111,
              "#46039f"
             ],
             [
              0.2222222222222222,
              "#7201a8"
             ],
             [
              0.3333333333333333,
              "#9c179e"
             ],
             [
              0.4444444444444444,
              "#bd3786"
             ],
             [
              0.5555555555555556,
              "#d8576b"
             ],
             [
              0.6666666666666666,
              "#ed7953"
             ],
             [
              0.7777777777777778,
              "#fb9f3a"
             ],
             [
              0.8888888888888888,
              "#fdca26"
             ],
             [
              1.0,
              "#f0f921"
             ]
            ],
            "type": "histogram2dcontour"
           }
          ],
          "mesh3d": [
           {
            "colorbar": {
             "outlinewidth": 0,
             "ticks": ""
            },
            "type": "mesh3d"
           }
          ],
          "parcoords": [
           {
            "line": {
             "colorbar": {
              "outlinewidth": 0,
              "ticks": ""
             }
            },
            "type": "parcoords"
           }
          ],
          "pie": [
           {
            "automargin": true,
            "type": "pie"
           }
          ],
          "scatter": [
           {
            "marker": {
             "colorbar": {
              "outlinewidth": 0,
              "ticks": ""
             }
            },
            "type": "scatter"
           }
          ],
          "scatter3d": [
           {
            "line": {
             "colorbar": {
              "outlinewidth": 0,
              "ticks": ""
             }
            },
            "marker": {
             "colorbar": {
              "outlinewidth": 0,
              "ticks": ""
             }
            },
            "type": "scatter3d"
           }
          ],
          "scattercarpet": [
           {
            "marker": {
             "colorbar": {
              "outlinewidth": 0,
              "ticks": ""
             }
            },
            "type": "scattercarpet"
           }
          ],
          "scattergeo": [
           {
            "marker": {
             "colorbar": {
              "outlinewidth": 0,
              "ticks": ""
             }
            },
            "type": "scattergeo"
           }
          ],
          "scattergl": [
           {
            "marker": {
             "colorbar": {
              "outlinewidth": 0,
              "ticks": ""
             }
            },
            "type": "scattergl"
           }
          ],
          "scattermapbox": [
           {
            "marker": {
             "colorbar": {
              "outlinewidth": 0,
              "ticks": ""
             }
            },
            "type": "scattermapbox"
           }
          ],
          "scatterpolar": [
           {
            "marker": {
             "colorbar": {
              "outlinewidth": 0,
              "ticks": ""
             }
            },
            "type": "scatterpolar"
           }
          ],
          "scatterpolargl": [
           {
            "marker": {
             "colorbar": {
              "outlinewidth": 0,
              "ticks": ""
             }
            },
            "type": "scatterpolargl"
           }
          ],
          "scatterternary": [
           {
            "marker": {
             "colorbar": {
              "outlinewidth": 0,
              "ticks": ""
             }
            },
            "type": "scatterternary"
           }
          ],
          "surface": [
           {
            "colorbar": {
             "outlinewidth": 0,
             "ticks": ""
            },
            "colorscale": [
             [
              0.0,
              "#0d0887"
             ],
             [
              0.1111111111111111,
              "#46039f"
             ],
             [
              0.2222222222222222,
              "#7201a8"
             ],
             [
              0.3333333333333333,
              "#9c179e"
             ],
             [
              0.4444444444444444,
              "#bd3786"
             ],
             [
              0.5555555555555556,
              "#d8576b"
             ],
             [
              0.6666666666666666,
              "#ed7953"
             ],
             [
              0.7777777777777778,
              "#fb9f3a"
             ],
             [
              0.8888888888888888,
              "#fdca26"
             ],
             [
              1.0,
              "#f0f921"
             ]
            ],
            "type": "surface"
           }
          ],
          "table": [
           {
            "cells": {
             "fill": {
              "color": "#EBF0F8"
             },
             "line": {
              "color": "white"
             }
            },
            "header": {
             "fill": {
              "color": "#C8D4E3"
             },
             "line": {
              "color": "white"
             }
            },
            "type": "table"
           }
          ]
         },
         "layout": {
          "annotationdefaults": {
           "arrowcolor": "#2a3f5f",
           "arrowhead": 0,
           "arrowwidth": 1
          },
          "coloraxis": {
           "colorbar": {
            "outlinewidth": 0,
            "ticks": ""
           }
          },
          "colorscale": {
           "diverging": [
            [
             0,
             "#8e0152"
            ],
            [
             0.1,
             "#c51b7d"
            ],
            [
             0.2,
             "#de77ae"
            ],
            [
             0.3,
             "#f1b6da"
            ],
            [
             0.4,
             "#fde0ef"
            ],
            [
             0.5,
             "#f7f7f7"
            ],
            [
             0.6,
             "#e6f5d0"
            ],
            [
             0.7,
             "#b8e186"
            ],
            [
             0.8,
             "#7fbc41"
            ],
            [
             0.9,
             "#4d9221"
            ],
            [
             1,
             "#276419"
            ]
           ],
           "sequential": [
            [
             0.0,
             "#0d0887"
            ],
            [
             0.1111111111111111,
             "#46039f"
            ],
            [
             0.2222222222222222,
             "#7201a8"
            ],
            [
             0.3333333333333333,
             "#9c179e"
            ],
            [
             0.4444444444444444,
             "#bd3786"
            ],
            [
             0.5555555555555556,
             "#d8576b"
            ],
            [
             0.6666666666666666,
             "#ed7953"
            ],
            [
             0.7777777777777778,
             "#fb9f3a"
            ],
            [
             0.8888888888888888,
             "#fdca26"
            ],
            [
             1.0,
             "#f0f921"
            ]
           ],
           "sequentialminus": [
            [
             0.0,
             "#0d0887"
            ],
            [
             0.1111111111111111,
             "#46039f"
            ],
            [
             0.2222222222222222,
             "#7201a8"
            ],
            [
             0.3333333333333333,
             "#9c179e"
            ],
            [
             0.4444444444444444,
             "#bd3786"
            ],
            [
             0.5555555555555556,
             "#d8576b"
            ],
            [
             0.6666666666666666,
             "#ed7953"
            ],
            [
             0.7777777777777778,
             "#fb9f3a"
            ],
            [
             0.8888888888888888,
             "#fdca26"
            ],
            [
             1.0,
             "#f0f921"
            ]
           ]
          },
          "colorway": [
           "#636efa",
           "#EF553B",
           "#00cc96",
           "#ab63fa",
           "#FFA15A",
           "#19d3f3",
           "#FF6692",
           "#B6E880",
           "#FF97FF",
           "#FECB52"
          ],
          "font": {
           "color": "#2a3f5f"
          },
          "geo": {
           "bgcolor": "white",
           "lakecolor": "white",
           "landcolor": "#E5ECF6",
           "showlakes": true,
           "showland": true,
           "subunitcolor": "white"
          },
          "hoverlabel": {
           "align": "left"
          },
          "hovermode": "closest",
          "mapbox": {
           "style": "light"
          },
          "paper_bgcolor": "white",
          "plot_bgcolor": "#E5ECF6",
          "polar": {
           "angularaxis": {
            "gridcolor": "white",
            "linecolor": "white",
            "ticks": ""
           },
           "bgcolor": "#E5ECF6",
           "radialaxis": {
            "gridcolor": "white",
            "linecolor": "white",
            "ticks": ""
           }
          },
          "scene": {
           "xaxis": {
            "backgroundcolor": "#E5ECF6",
            "gridcolor": "white",
            "gridwidth": 2,
            "linecolor": "white",
            "showbackground": true,
            "ticks": "",
            "zerolinecolor": "white"
           },
           "yaxis": {
            "backgroundcolor": "#E5ECF6",
            "gridcolor": "white",
            "gridwidth": 2,
            "linecolor": "white",
            "showbackground": true,
            "ticks": "",
            "zerolinecolor": "white"
           },
           "zaxis": {
            "backgroundcolor": "#E5ECF6",
            "gridcolor": "white",
            "gridwidth": 2,
            "linecolor": "white",
            "showbackground": true,
            "ticks": "",
            "zerolinecolor": "white"
           }
          },
          "shapedefaults": {
           "line": {
            "color": "#2a3f5f"
           }
          },
          "ternary": {
           "aaxis": {
            "gridcolor": "white",
            "linecolor": "white",
            "ticks": ""
           },
           "baxis": {
            "gridcolor": "white",
            "linecolor": "white",
            "ticks": ""
           },
           "bgcolor": "#E5ECF6",
           "caxis": {
            "gridcolor": "white",
            "linecolor": "white",
            "ticks": ""
           }
          },
          "title": {
           "x": 0.05
          },
          "xaxis": {
           "automargin": true,
           "gridcolor": "white",
           "linecolor": "white",
           "ticks": "",
           "title": {
            "standoff": 15
           },
           "zerolinecolor": "white",
           "zerolinewidth": 2
          },
          "yaxis": {
           "automargin": true,
           "gridcolor": "white",
           "linecolor": "white",
           "ticks": "",
           "title": {
            "standoff": 15
           },
           "zerolinecolor": "white",
           "zerolinewidth": 2
          }
         }
        }
       }
      },
      "text/html": "<div>\n        \n        \n            <div id=\"481470c1-70e2-4b58-99e2-25e6f6041d06\" class=\"plotly-graph-div\" style=\"height:525px; width:100%;\"></div>\n            <script type=\"text/javascript\">\n                require([\"plotly\"], function(Plotly) {\n                    window.PLOTLYENV=window.PLOTLYENV || {};\n                    \n                if (document.getElementById(\"481470c1-70e2-4b58-99e2-25e6f6041d06\")) {\n                    Plotly.newPlot(\n                        '481470c1-70e2-4b58-99e2-25e6f6041d06',\n                        [{\"error_y\": {\"array\": [0.04122759537552148, 0.060320763693247924], \"type\": \"data\"}, \"name\": \"Standing\", \"type\": \"bar\", \"x\": [\"precision_H\", \"precision_V\"], \"y\": [0.28511287898581084, 0.3065808910605814]}, {\"error_y\": {\"array\": [0.20131196183190564, 0.2101842806442804], \"type\": \"data\"}, \"name\": \"Walking\", \"type\": \"bar\", \"x\": [\"precision_H\", \"precision_V\"], \"y\": [1.0234952018760384, 1.1327515513426307]}],\n                        {\"barmode\": \"group\", \"template\": {\"data\": {\"bar\": [{\"error_x\": {\"color\": \"#2a3f5f\"}, \"error_y\": {\"color\": \"#2a3f5f\"}, \"marker\": {\"line\": {\"color\": \"#E5ECF6\", \"width\": 0.5}}, \"type\": \"bar\"}], \"barpolar\": [{\"marker\": {\"line\": {\"color\": \"#E5ECF6\", \"width\": 0.5}}, \"type\": \"barpolar\"}], \"carpet\": [{\"aaxis\": {\"endlinecolor\": \"#2a3f5f\", \"gridcolor\": \"white\", \"linecolor\": \"white\", \"minorgridcolor\": \"white\", \"startlinecolor\": \"#2a3f5f\"}, \"baxis\": {\"endlinecolor\": \"#2a3f5f\", \"gridcolor\": \"white\", \"linecolor\": \"white\", \"minorgridcolor\": \"white\", \"startlinecolor\": \"#2a3f5f\"}, \"type\": \"carpet\"}], \"choropleth\": [{\"colorbar\": {\"outlinewidth\": 0, \"ticks\": \"\"}, \"type\": \"choropleth\"}], \"contour\": [{\"colorbar\": {\"outlinewidth\": 0, \"ticks\": \"\"}, \"colorscale\": [[0.0, \"#0d0887\"], [0.1111111111111111, \"#46039f\"], [0.2222222222222222, \"#7201a8\"], [0.3333333333333333, \"#9c179e\"], [0.4444444444444444, \"#bd3786\"], [0.5555555555555556, \"#d8576b\"], [0.6666666666666666, \"#ed7953\"], [0.7777777777777778, \"#fb9f3a\"], [0.8888888888888888, \"#fdca26\"], [1.0, \"#f0f921\"]], \"type\": \"contour\"}], \"contourcarpet\": [{\"colorbar\": {\"outlinewidth\": 0, \"ticks\": \"\"}, \"type\": \"contourcarpet\"}], \"heatmap\": [{\"colorbar\": {\"outlinewidth\": 0, \"ticks\": \"\"}, \"colorscale\": [[0.0, \"#0d0887\"], [0.1111111111111111, \"#46039f\"], [0.2222222222222222, \"#7201a8\"], [0.3333333333333333, \"#9c179e\"], [0.4444444444444444, \"#bd3786\"], [0.5555555555555556, \"#d8576b\"], [0.6666666666666666, \"#ed7953\"], [0.7777777777777778, \"#fb9f3a\"], [0.8888888888888888, \"#fdca26\"], [1.0, \"#f0f921\"]], \"type\": \"heatmap\"}], \"heatmapgl\": [{\"colorbar\": {\"outlinewidth\": 0, \"ticks\": \"\"}, \"colorscale\": [[0.0, \"#0d0887\"], [0.1111111111111111, \"#46039f\"], [0.2222222222222222, \"#7201a8\"], [0.3333333333333333, \"#9c179e\"], [0.4444444444444444, \"#bd3786\"], [0.5555555555555556, \"#d8576b\"], [0.6666666666666666, \"#ed7953\"], [0.7777777777777778, \"#fb9f3a\"], [0.8888888888888888, \"#fdca26\"], [1.0, \"#f0f921\"]], \"type\": \"heatmapgl\"}], \"histogram\": [{\"marker\": {\"colorbar\": {\"outlinewidth\": 0, \"ticks\": \"\"}}, \"type\": \"histogram\"}], \"histogram2d\": [{\"colorbar\": {\"outlinewidth\": 0, \"ticks\": \"\"}, \"colorscale\": [[0.0, \"#0d0887\"], [0.1111111111111111, \"#46039f\"], [0.2222222222222222, \"#7201a8\"], [0.3333333333333333, \"#9c179e\"], [0.4444444444444444, \"#bd3786\"], [0.5555555555555556, \"#d8576b\"], [0.6666666666666666, \"#ed7953\"], [0.7777777777777778, \"#fb9f3a\"], [0.8888888888888888, \"#fdca26\"], [1.0, \"#f0f921\"]], \"type\": \"histogram2d\"}], \"histogram2dcontour\": [{\"colorbar\": {\"outlinewidth\": 0, \"ticks\": \"\"}, \"colorscale\": [[0.0, \"#0d0887\"], [0.1111111111111111, \"#46039f\"], [0.2222222222222222, \"#7201a8\"], [0.3333333333333333, \"#9c179e\"], [0.4444444444444444, \"#bd3786\"], [0.5555555555555556, \"#d8576b\"], [0.6666666666666666, \"#ed7953\"], [0.7777777777777778, \"#fb9f3a\"], [0.8888888888888888, \"#fdca26\"], [1.0, \"#f0f921\"]], \"type\": \"histogram2dcontour\"}], \"mesh3d\": [{\"colorbar\": {\"outlinewidth\": 0, \"ticks\": \"\"}, \"type\": \"mesh3d\"}], \"parcoords\": [{\"line\": {\"colorbar\": {\"outlinewidth\": 0, \"ticks\": \"\"}}, \"type\": \"parcoords\"}], \"pie\": [{\"automargin\": true, \"type\": \"pie\"}], \"scatter\": [{\"marker\": {\"colorbar\": {\"outlinewidth\": 0, \"ticks\": \"\"}}, \"type\": \"scatter\"}], \"scatter3d\": [{\"line\": {\"colorbar\": {\"outlinewidth\": 0, \"ticks\": \"\"}}, \"marker\": {\"colorbar\": {\"outlinewidth\": 0, \"ticks\": \"\"}}, \"type\": \"scatter3d\"}], \"scattercarpet\": [{\"marker\": {\"colorbar\": {\"outlinewidth\": 0, \"ticks\": \"\"}}, \"type\": \"scattercarpet\"}], \"scattergeo\": [{\"marker\": {\"colorbar\": {\"outlinewidth\": 0, \"ticks\": \"\"}}, \"type\": \"scattergeo\"}], \"scattergl\": [{\"marker\": {\"colorbar\": {\"outlinewidth\": 0, \"ticks\": \"\"}}, \"type\": \"scattergl\"}], \"scattermapbox\": [{\"marker\": {\"colorbar\": {\"outlinewidth\": 0, \"ticks\": \"\"}}, \"type\": \"scattermapbox\"}], \"scatterpolar\": [{\"marker\": {\"colorbar\": {\"outlinewidth\": 0, \"ticks\": \"\"}}, \"type\": \"scatterpolar\"}], \"scatterpolargl\": [{\"marker\": {\"colorbar\": {\"outlinewidth\": 0, \"ticks\": \"\"}}, \"type\": \"scatterpolargl\"}], \"scatterternary\": [{\"marker\": {\"colorbar\": {\"outlinewidth\": 0, \"ticks\": \"\"}}, \"type\": \"scatterternary\"}], \"surface\": [{\"colorbar\": {\"outlinewidth\": 0, \"ticks\": \"\"}, \"colorscale\": [[0.0, \"#0d0887\"], [0.1111111111111111, \"#46039f\"], [0.2222222222222222, \"#7201a8\"], [0.3333333333333333, \"#9c179e\"], [0.4444444444444444, \"#bd3786\"], [0.5555555555555556, \"#d8576b\"], [0.6666666666666666, \"#ed7953\"], [0.7777777777777778, \"#fb9f3a\"], [0.8888888888888888, \"#fdca26\"], [1.0, \"#f0f921\"]], \"type\": \"surface\"}], \"table\": [{\"cells\": {\"fill\": {\"color\": \"#EBF0F8\"}, \"line\": {\"color\": \"white\"}}, \"header\": {\"fill\": {\"color\": \"#C8D4E3\"}, \"line\": {\"color\": \"white\"}}, \"type\": \"table\"}]}, \"layout\": {\"annotationdefaults\": {\"arrowcolor\": \"#2a3f5f\", \"arrowhead\": 0, \"arrowwidth\": 1}, \"coloraxis\": {\"colorbar\": {\"outlinewidth\": 0, \"ticks\": \"\"}}, \"colorscale\": {\"diverging\": [[0, \"#8e0152\"], [0.1, \"#c51b7d\"], [0.2, \"#de77ae\"], [0.3, \"#f1b6da\"], [0.4, \"#fde0ef\"], [0.5, \"#f7f7f7\"], [0.6, \"#e6f5d0\"], [0.7, \"#b8e186\"], [0.8, \"#7fbc41\"], [0.9, \"#4d9221\"], [1, \"#276419\"]], \"sequential\": [[0.0, \"#0d0887\"], [0.1111111111111111, \"#46039f\"], [0.2222222222222222, \"#7201a8\"], [0.3333333333333333, \"#9c179e\"], [0.4444444444444444, \"#bd3786\"], [0.5555555555555556, \"#d8576b\"], [0.6666666666666666, \"#ed7953\"], [0.7777777777777778, \"#fb9f3a\"], [0.8888888888888888, \"#fdca26\"], [1.0, \"#f0f921\"]], \"sequentialminus\": [[0.0, \"#0d0887\"], [0.1111111111111111, \"#46039f\"], [0.2222222222222222, \"#7201a8\"], [0.3333333333333333, \"#9c179e\"], [0.4444444444444444, \"#bd3786\"], [0.5555555555555556, \"#d8576b\"], [0.6666666666666666, \"#ed7953\"], [0.7777777777777778, \"#fb9f3a\"], [0.8888888888888888, \"#fdca26\"], [1.0, \"#f0f921\"]]}, \"colorway\": [\"#636efa\", \"#EF553B\", \"#00cc96\", \"#ab63fa\", \"#FFA15A\", \"#19d3f3\", \"#FF6692\", \"#B6E880\", \"#FF97FF\", \"#FECB52\"], \"font\": {\"color\": \"#2a3f5f\"}, \"geo\": {\"bgcolor\": \"white\", \"lakecolor\": \"white\", \"landcolor\": \"#E5ECF6\", \"showlakes\": true, \"showland\": true, \"subunitcolor\": \"white\"}, \"hoverlabel\": {\"align\": \"left\"}, \"hovermode\": \"closest\", \"mapbox\": {\"style\": \"light\"}, \"paper_bgcolor\": \"white\", \"plot_bgcolor\": \"#E5ECF6\", \"polar\": {\"angularaxis\": {\"gridcolor\": \"white\", \"linecolor\": \"white\", \"ticks\": \"\"}, \"bgcolor\": \"#E5ECF6\", \"radialaxis\": {\"gridcolor\": \"white\", \"linecolor\": \"white\", \"ticks\": \"\"}}, \"scene\": {\"xaxis\": {\"backgroundcolor\": \"#E5ECF6\", \"gridcolor\": \"white\", \"gridwidth\": 2, \"linecolor\": \"white\", \"showbackground\": true, \"ticks\": \"\", \"zerolinecolor\": \"white\"}, \"yaxis\": {\"backgroundcolor\": \"#E5ECF6\", \"gridcolor\": \"white\", \"gridwidth\": 2, \"linecolor\": \"white\", \"showbackground\": true, \"ticks\": \"\", \"zerolinecolor\": \"white\"}, \"zaxis\": {\"backgroundcolor\": \"#E5ECF6\", \"gridcolor\": \"white\", \"gridwidth\": 2, \"linecolor\": \"white\", \"showbackground\": true, \"ticks\": \"\", \"zerolinecolor\": \"white\"}}, \"shapedefaults\": {\"line\": {\"color\": \"#2a3f5f\"}}, \"ternary\": {\"aaxis\": {\"gridcolor\": \"white\", \"linecolor\": \"white\", \"ticks\": \"\"}, \"baxis\": {\"gridcolor\": \"white\", \"linecolor\": \"white\", \"ticks\": \"\"}, \"bgcolor\": \"#E5ECF6\", \"caxis\": {\"gridcolor\": \"white\", \"linecolor\": \"white\", \"ticks\": \"\"}}, \"title\": {\"x\": 0.05}, \"xaxis\": {\"automargin\": true, \"gridcolor\": \"white\", \"linecolor\": \"white\", \"ticks\": \"\", \"title\": {\"standoff\": 15}, \"zerolinecolor\": \"white\", \"zerolinewidth\": 2}, \"yaxis\": {\"automargin\": true, \"gridcolor\": \"white\", \"linecolor\": \"white\", \"ticks\": \"\", \"title\": {\"standoff\": 15}, \"zerolinecolor\": \"white\", \"zerolinewidth\": 2}}}},\n                        {\"responsive\": true}\n                    ).then(function(){\n                            \nvar gd = document.getElementById('481470c1-70e2-4b58-99e2-25e6f6041d06');\nvar x = new MutationObserver(function (mutations, observer) {{\n        var display = window.getComputedStyle(gd).display;\n        if (!display || display === 'none') {{\n            console.log([gd, 'removed!']);\n            Plotly.purge(gd);\n            observer.disconnect();\n        }}\n}});\n\n// Listen for the removal of the full notebook cells\nvar notebookContainer = gd.closest('#notebook-container');\nif (notebookContainer) {{\n    x.observe(notebookContainer, {childList: true});\n}}\n\n// Listen for the clearing of the current output cell\nvar outputEl = gd.closest('.output');\nif (outputEl) {{\n    x.observe(outputEl, {childList: true});\n}}\n\n                        })\n                };\n                });\n            </script>\n        </div>"
     },
     "metadata": {},
     "output_type": "display_data"
    }
   ],
   "source": [
    "import plotly.graph_objects as go\n",
    "cols=[\"accuracy_H\",\"accuracy_V\"]\n",
    "fig = go.Figure(\n",
    "    data=[\n",
    "        go.Bar(name='Standing',error_y=dict(type='data',array=[behaviour_results.stand_accuracy_horizontal.std(),behaviour_results.stand_accuracy_vertical.std()]),x=cols,y=[behaviour_results.stand_accuracy_horizontal.mean(),behaviour_results.stand_accuracy_vertical.mean()]),\n",
    "        go.Bar(name='Walking',error_y=dict(type='data',array=[behaviour_results.walk_accuracy_horizontal.std(),behaviour_results.walk_accuracy_vertical.std()]),x=cols,y=[behaviour_results.walk_accuracy_horizontal.mean(),behaviour_results.walk_accuracy_vertical.mean()]),\n",
    "        # go.Bar(x=,y=behaviour_results.stand_accuracy_vertical.mean()),\n",
    "    ]\n",
    ")\n",
    "fig.update_layout(barmode='group')\n",
    "fig.show()\n",
    "cols=['precision_H','precision_V']\n",
    "fig=go.Figure(\n",
    "    data=[\n",
    "        go.Bar(name='Standing',error_y=dict(type='data',array=[behaviour_results.stand_precision_horizontal.std(),behaviour_results.stand_precision_vertical.std()]),\n",
    "               x=cols,y=[behaviour_results.stand_precision_horizontal.mean(),behaviour_results.stand_precision_vertical.mean()]),\n",
    "        go.Bar(name='Walking',error_y=dict(type='data',array=[behaviour_results.walk_precision_horizontal.std(),behaviour_results.walk_precision_vertical.std()]),\n",
    "               x=cols,y=[behaviour_results.walk_precision_horizontal.mean(),behaviour_results.walk_precision_vertical.mean()]),\n",
    "    ]\n",
    ")\n",
    "fig.update_layout(barmode='group')\n",
    "fig.show()"
   ],
   "metadata": {
    "collapsed": false,
    "pycharm": {
     "name": "#%% SEE there is meaningful difference in accuracy/precision between walk-standing conditions\n"
    }
   }
  },
  {
   "cell_type": "code",
   "execution_count": 2,
   "outputs": [],
   "source": [
    "dwell_results=pd.DataFrame()\n",
    "for subject in subjects:\n",
    "    summary = pd.read_pickle(\"summary\"+str(subject-200)+\".pkl\")\n",
    "    standing = summary[(summary.pos=='S')]\n",
    "    walking =  summary[(summary.pos=='W')]\n",
    "    for temp_threshold in [100,200,300,400,500,600,700,800,900,1000,1100,1200,1300,1400,1500]:\n",
    "        temp_standing = standing[standing.dwell_threshold==temp_threshold]\n",
    "        temp_walking = walking[walking.dwell_threshold == temp_threshold]\n",
    "        temp_standing.target_on_count"
   ],
   "metadata": {
    "collapsed": false,
    "pycharm": {
     "name": "#%%\n"
    }
   }
  }
 ],
 "metadata": {
  "kernelspec": {
   "name": "pycharm-f49f67d1",
   "language": "python",
   "display_name": "PyCharm (SecondAnalysis)"
  },
  "language_info": {
   "codemirror_mode": {
    "name": "ipython",
    "version": 2
   },
   "file_extension": ".py",
   "mimetype": "text/x-python",
   "name": "python",
   "nbconvert_exporter": "python",
   "pygments_lexer": "ipython2",
   "version": "2.7.6"
  }
 },
 "nbformat": 4,
 "nbformat_minor": 0
}