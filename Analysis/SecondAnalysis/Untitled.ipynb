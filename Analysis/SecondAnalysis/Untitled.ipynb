{
 "cells": [
  {
   "cell_type": "code",
   "execution_count": null,
   "metadata": {},
   "outputs": [],
   "source": [
    "from IPython.core.display import display\n",
    "%reload_ext autoreload\n",
    "%autoreload 2\n",
    "\n",
    "import matplotlib.pyplot as plt\n",
    "import itertools\n",
    "import pandas as pd\n",
    "import Analysis\n",
    "import new\n",
    "import FileHandling\n",
    "import pandas as pd\n",
    "%matplotlib inline\n",
    "'''\n",
    "options\n",
    "'''\n",
    "# subjects = range(201, 216)\n",
    "subjects = range(201, 212)\n",
    "# subjects=range(201,202)\n",
    "targets = range(8)\n",
    "envs = ['U', 'W']\n",
    "# envs = ['U']\n",
    "# poss = ['S', 'W']\n",
    "poss = ['S']\n",
    "# blocks=[0]\n",
    "blocks = range(5)\n",
    "pd.set_option('display.max_columns', 30)\n",
    "ROOT = Path.cwd()\n",
    "DATA_ROOT = ROOT.parent.parent / 'Datasets' / '2ndData'"
   ]
  },
  {
   "cell_type": "code",
   "execution_count": null,
   "metadata": {},
   "outputs": [],
   "source": [
    "for subject in subjects:\n",
    "    "
   ]
  }
 ],
 "metadata": {
  "kernelspec": {
   "display_name": "Python 3",
   "language": "python",
   "name": "python3"
  },
  "language_info": {
   "codemirror_mode": {
    "name": "ipython",
    "version": 3
   },
   "file_extension": ".py",
   "mimetype": "text/x-python",
   "name": "python",
   "nbconvert_exporter": "python",
   "pygments_lexer": "ipython3",
   "version": "3.8.3"
  }
 },
 "nbformat": 4,
 "nbformat_minor": 4
}
