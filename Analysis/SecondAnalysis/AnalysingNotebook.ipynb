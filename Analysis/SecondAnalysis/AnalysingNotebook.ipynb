{
 "cells": [
  {
   "cell_type": "markdown",
   "metadata": {},
   "source": [
    "Interactive plots"
   ]
  },
  {
   "cell_type": "code",
   "execution_count": 41,
   "metadata": {
    "pycharm": {
     "name": "#%%\n"
    }
   },
   "outputs": [
    {
     "data": {
      "text/html": [
       "        <script type=\"text/javascript\">\n",
       "        window.PlotlyConfig = {MathJaxConfig: 'local'};\n",
       "        if (window.MathJax) {MathJax.Hub.Config({SVG: {font: \"STIX-Web\"}});}\n",
       "        if (typeof require !== 'undefined') {\n",
       "        require.undef(\"plotly\");\n",
       "        requirejs.config({\n",
       "            paths: {\n",
       "                'plotly': ['https://cdn.plot.ly/plotly-latest.min']\n",
       "            }\n",
       "        });\n",
       "        require(['plotly'], function(Plotly) {\n",
       "            window._Plotly = Plotly;\n",
       "        });\n",
       "        }\n",
       "        </script>\n",
       "        "
      ]
     },
     "metadata": {},
     "output_type": "display_data"
    }
   ],
   "source": [
    "from IPython.core.display import display\n",
    "%reload_ext autoreload\n",
    "%autoreload 2\n",
    "import ipywidgets as widgets\n",
    "import matplotlib.pyplot as plt\n",
    "from ipywidgets import interactive, interact, interact_manual, interactive_output\n",
    "from plotly.offline import init_notebook_mode,iplot\n",
    "import new\n",
    "import seaborn as sns\n",
    "import plotly.express as px\n",
    "import plotly.graph_objects as go\n",
    "sns.set_context('notebook')\n",
    "sns.set_style('white')\n",
    "init_notebook_mode(connected=True)\n",
    "import numpy as np\n",
    "subjects = range(201, 212)\n",
    "targets = range(8)\n",
    "envs = ['U', 'W']\n",
    "poss = ['W']\n",
    "blocks = range(5)"
   ]
  },
  {
   "cell_type": "code",
   "execution_count": 42,
   "metadata": {
    "pycharm": {
     "name": "#%% widgets\n"
    },
    "scrolled": false
   },
   "outputs": [
    {
     "data": {
      "application/vnd.jupyter.widget-view+json": {
       "model_id": "71bcfea76f774b098647575c2e8e35d4",
       "version_major": 2,
       "version_minor": 0
      },
      "text/plain": [
       "interactive(children=(Dropdown(description='subject', options=(201, 202, 203, 204, 205, 206, 207, 208, 209, 21…"
      ]
     },
     "metadata": {},
     "output_type": "display_data"
    },
    {
     "data": {
      "text/plain": [
       "<function __main__.scatter_plot(subject=range(201, 212), target=range(0, 8), env=['U', 'W'], pos=['W'], block=range(0, 5))>"
      ]
     },
     "execution_count": 42,
     "metadata": {},
     "output_type": "execute_result"
    }
   ],
   "source": [
    "# button = widgets.Button(description='Update')\n",
    "# df = px.data.gapminder()\n",
    "@interact_manual\n",
    "def scatter_plot(subject=subjects,target=targets,env=envs,pos=poss,block=blocks):\n",
    "    eye,holo,imu = new.one_trial(subject, target, env, pos, block)\n",
    "    eye, holo, imu, peaks, filtered_x,filtered_y,target_vertical,target_horizontal= new.data_prep(eye,holo,imu)\n",
    "    # fig ,axs= plt.subplots(1,2,figsize=(12,6))\n",
    "    # axs[0].scatter(filtered_x,filtered_y)\n",
    "    # axs[1].scatter(target_horizontal,target_vertical)\n",
    "    # plt.show()\n",
    "#     fig = px.scatter(data_frame=eye,x='filtered_x',y='filtered_y',color='confidence',animation_frame='timestamp',range_x=[0.4,0.5],range_y=[0.2,0.3])\n",
    "    fig = px.scatter(data_frame=eye,x='target_horizontal',y='target_vertical',color='confidence',animation_frame='timestamp')\n",
    "    fig.show()\n",
    "    # iplot(fig)\n",
    "scatter_plot"
   ]
  }
 ],
 "metadata": {
  "kernelspec": {
   "display_name": "Python 3",
   "language": "python",
   "name": "python3"
  },
  "language_info": {
   "codemirror_mode": {
    "name": "ipython",
    "version": 3
   },
   "file_extension": ".py",
   "mimetype": "text/x-python",
   "name": "python",
   "nbconvert_exporter": "python",
   "pygments_lexer": "ipython3",
   "version": "3.7.4"
  }
 },
 "nbformat": 4,
 "nbformat_minor": 1
}
