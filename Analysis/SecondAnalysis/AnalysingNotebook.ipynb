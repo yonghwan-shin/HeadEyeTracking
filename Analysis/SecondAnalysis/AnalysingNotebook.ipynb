{
 "cells": [
  {
   "cell_type": "markdown",
   "metadata": {},
   "source": [
    "Interactive plots"
   ]
  },
  {
   "cell_type": "code",
   "execution_count": 1,
   "metadata": {
    "collapsed": true,
    "pycharm": {
     "name": "#%%\n"
    }
   },
   "outputs": [],
   "source": [
    "from IPython.core.display import display\n",
    "%load_ext autoreload\n",
    "%autoreload 2\n",
    "\n",
    "import ipywidgets as widgets\n",
    "import matplotlib.pyplot as plt\n",
    "from ipywidgets import interactive, interact, interact_manual, interactive_output\n",
    "import new\n",
    "import numpy as np\n",
    "# import pandas as pd\n",
    "# import cufflinks as cf\n",
    "subjects = range(201, 212)\n",
    "# subjects=range(201,202)\n",
    "targets = range(8)\n",
    "envs = ['U', 'W']\n",
    "# envs = ['U']\n",
    "# poss = ['S', 'W']\n",
    "poss = ['S']\n",
    "# blocks=[0]\n",
    "blocks = range(5)"
   ]
  },
  {
   "cell_type": "code",
   "execution_count": 66,
   "metadata": {
    "pycharm": {
     "name": "#%% widgets\n"
    }
   },
   "outputs": [
    {
     "data": {
      "application/vnd.jupyter.widget-view+json": {
       "model_id": "7f7d9bd824c8484db4171805f77c5be2",
       "version_major": 2,
       "version_minor": 0
      },
      "text/plain": [
       "interactive(children=(FloatSlider(value=0.0, description='m', max=2.0, min=-2.0), FloatSlider(value=0.0, descr…"
      ]
     },
     "metadata": {},
     "output_type": "display_data"
    }
   ],
   "source": [
    "def f(m,b):\n",
    "    plt.figure(2)\n",
    "    x = np.linspace(-10,10,num=1000)\n",
    "    plt.plot(x,m*x+b)\n",
    "    plt.ylin(-5,5)\n",
    "    plt.show()\n",
    "interactive_plot = interactive(f,m=(-2.0,2.0),b=(-3,3,0.5))\n",
    "output = interactive_plot.children[-1]\n",
    "output.layout.height = '350px'\n",
    "interactive_plot"
   ]
  }
 ],
 "metadata": {
  "kernelspec": {
   "display_name": "Python 3",
   "language": "python",
   "name": "python3"
  },
  "language_info": {
   "codemirror_mode": {
    "name": "ipython",
    "version": 3
   },
   "file_extension": ".py",
   "mimetype": "text/x-python",
   "name": "python",
   "nbconvert_exporter": "python",
   "pygments_lexer": "ipython3",
   "version": "3.7.6"
  }
 },
 "nbformat": 4,
 "nbformat_minor": 1
}